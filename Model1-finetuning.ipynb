{
  "cells": [
    {
      "cell_type": "markdown",
      "metadata": {
        "id": "dWKr6NZQ5t4I"
      },
      "source": [
        " Mount the drive"
      ]
    },
    {
      "cell_type": "code",
      "execution_count": 1,
      "metadata": {
        "colab": {
          "base_uri": "https://localhost:8080/"
        },
        "id": "vWSOoHiLH6cl",
        "outputId": "1e4f3184-d76c-46d0-e6d1-f2cfa250e515"
      },
      "outputs": [
        {
          "output_type": "stream",
          "name": "stdout",
          "text": [
            "Mounted at /content/drive\n"
          ]
        }
      ],
      "source": [
        "from google.colab import drive\n",
        "\n",
        "drive.mount('/content/drive')"
      ]
    },
    {
      "cell_type": "markdown",
      "metadata": {
        "id": "fPcapCen5rcE"
      },
      "source": [
        "Move dataset to local"
      ]
    },
    {
      "cell_type": "code",
      "execution_count": 2,
      "metadata": {
        "colab": {
          "base_uri": "https://localhost:8080/",
          "height": 36
        },
        "id": "6pu3xSjSImh_",
        "outputId": "b72dc252-93c3-48b3-a2aa-51b3d391ae08"
      },
      "outputs": [
        {
          "output_type": "execute_result",
          "data": {
            "text/plain": [
              "'/content/nava'"
            ],
            "application/vnd.google.colaboratory.intrinsic+json": {
              "type": "string"
            }
          },
          "metadata": {},
          "execution_count": 2
        }
      ],
      "source": [
        "import shutil\n",
        "\n",
        "nava_drive_dir = '/content/drive/MyDrive/NavaDataset'\n",
        "nava_dir = '/content/nava'\n",
        "\n",
        "shutil.copytree(nava_drive_dir, nava_dir)"
      ]
    },
    {
      "cell_type": "markdown",
      "source": [
        "Print the number of samples"
      ],
      "metadata": {
        "id": "a6pYHGCFArKo"
      }
    },
    {
      "cell_type": "code",
      "source": [
        "import glob\n",
        "print(\"Number of Samples: \", len(glob.glob('/content/nava/Data/*.mp3')))"
      ],
      "metadata": {
        "colab": {
          "base_uri": "https://localhost:8080/"
        },
        "id": "2e9gocKZ_XYD",
        "outputId": "d4bec576-19ba-4af2-cddc-52c5a7ce06b1"
      },
      "execution_count": 3,
      "outputs": [
        {
          "output_type": "stream",
          "name": "stdout",
          "text": [
            "Number of Samples:  1785\n"
          ]
        }
      ]
    },
    {
      "cell_type": "markdown",
      "metadata": {
        "id": "fPpjAWhT5o-g"
      },
      "source": [
        "Make a train dataset"
      ]
    },
    {
      "cell_type": "code",
      "execution_count": 4,
      "metadata": {
        "colab": {
          "base_uri": "https://localhost:8080/"
        },
        "id": "cO2DO08KNdBT",
        "outputId": "fad46975-ff69-41a5-a4b9-820a14d949e8"
      },
      "outputs": [
        {
          "output_type": "stream",
          "name": "stdout",
          "text": [
            "Warning: 6 files not found.\n"
          ]
        }
      ],
      "source": [
        "import os\n",
        "import pandas as pd\n",
        "\n",
        "with open('/content/nava/train_40.txt', 'r') as file:\n",
        "    lines = file.readlines()\n",
        "\n",
        "data = []\n",
        "err = 0\n",
        "for line in lines:\n",
        "    parts = line.strip().split('_')\n",
        "    file_name = f'/content/nava/Data/{line.strip()}.mp3'\n",
        "    instrument = int(parts[0])\n",
        "    dastgah = int(parts[1])\n",
        "    artist = int(parts[2])\n",
        "\n",
        "    # Exclude if the file doesnt exist\n",
        "    if os.path.exists(file_name):\n",
        "        data.append([file_name, instrument, dastgah, artist])\n",
        "    else:\n",
        "        err+=1\n",
        "\n",
        "print(f\"Warning: {err} files not found.\")\n",
        "\n",
        "columns = ['relative_path', 'instrument', 'dastgah', 'artist']\n",
        "train = pd.DataFrame(data, columns=columns)"
      ]
    },
    {
      "cell_type": "markdown",
      "source": [
        "Make validation dataset"
      ],
      "metadata": {
        "id": "XYSnwgQwBSoR"
      }
    },
    {
      "cell_type": "code",
      "source": [
        "with open('/content/nava/dev.txt', 'r') as file:\n",
        "    lines = file.readlines()\n",
        "\n",
        "data = []\n",
        "err = 0\n",
        "for line in lines:\n",
        "    parts = line.strip().split('_')\n",
        "    file_name = f'/content/nava/Data/{line.strip()}.mp3'\n",
        "    instrument = int(parts[0])\n",
        "    dastgah = int(parts[1])\n",
        "    artist = int(parts[2])\n",
        "\n",
        "    # Exclude if the file doesnt exist\n",
        "    if os.path.exists(file_name):\n",
        "        data.append([file_name, instrument, dastgah, artist])\n",
        "    else:\n",
        "        err+=1\n",
        "\n",
        "print(f\"Warning: {err} files not found.\")\n",
        "\n",
        "columns = ['relative_path', 'instrument', 'dastgah', 'artist']\n",
        "validation = pd.DataFrame(data, columns=columns)"
      ],
      "metadata": {
        "colab": {
          "base_uri": "https://localhost:8080/"
        },
        "id": "87uYK-jvAzsR",
        "outputId": "d88d9abc-f147-482d-dfaa-1965947fd690"
      },
      "execution_count": 5,
      "outputs": [
        {
          "output_type": "stream",
          "name": "stdout",
          "text": [
            "Warning: 7 files not found.\n"
          ]
        }
      ]
    },
    {
      "cell_type": "markdown",
      "metadata": {
        "id": "ElIRMuMI5iNs"
      },
      "source": [
        "Make a test dataset"
      ]
    },
    {
      "cell_type": "code",
      "execution_count": 6,
      "metadata": {
        "colab": {
          "base_uri": "https://localhost:8080/"
        },
        "id": "zzwqFFdUv1QB",
        "outputId": "c6339c7f-0e23-4dc5-8d45-312db80ba39a"
      },
      "outputs": [
        {
          "output_type": "stream",
          "name": "stdout",
          "text": [
            "Warning: 9 files not found.\n"
          ]
        }
      ],
      "source": [
        "with open('/content/nava/test.txt', 'r') as file:\n",
        "    lines = file.readlines()\n",
        "\n",
        "data = []\n",
        "err = 0\n",
        "for line in lines:\n",
        "    parts = line.strip().split('_')\n",
        "    file_name = f'/content/nava/Data/{line.strip()}.mp3'\n",
        "    instrument = int(parts[0])\n",
        "    dastgah = int(parts[1])\n",
        "    artist = int(parts[2])\n",
        "\n",
        "    # Exclude if the file doesnt exist\n",
        "    if os.path.exists(file_name):\n",
        "        data.append([file_name, instrument, dastgah, artist])\n",
        "    else:\n",
        "        err+=1\n",
        "\n",
        "print(f\"Warning: {err} files not found.\")\n",
        "\n",
        "columns = ['relative_path', 'instrument', 'dastgah', 'artist']\n",
        "test = pd.DataFrame(data, columns=columns)"
      ]
    },
    {
      "cell_type": "markdown",
      "metadata": {
        "id": "6XOc3S545ZBd"
      },
      "source": [
        "Print the head of the train dataset"
      ]
    },
    {
      "cell_type": "code",
      "execution_count": 7,
      "metadata": {
        "colab": {
          "base_uri": "https://localhost:8080/",
          "height": 206
        },
        "id": "1uPZxSrBMkyh",
        "outputId": "fbc4c6e2-d454-4249-efac-ca0fe7480707"
      },
      "outputs": [
        {
          "output_type": "execute_result",
          "data": {
            "text/plain": [
              "                      relative_path  instrument  dastgah  artist\n",
              "0  /content/nava/Data/1_0_08_09.mp3           1        0       8\n",
              "1  /content/nava/Data/1_0_08_11.mp3           1        0       8\n",
              "2  /content/nava/Data/1_0_08_07.mp3           1        0       8\n",
              "3  /content/nava/Data/1_0_08_12.mp3           1        0       8\n",
              "4  /content/nava/Data/1_0_08_06.mp3           1        0       8"
            ],
            "text/html": [
              "\n",
              "  <div id=\"df-60e45cca-1001-4b9f-8f6f-17a7e3316ce6\" class=\"colab-df-container\">\n",
              "    <div>\n",
              "<style scoped>\n",
              "    .dataframe tbody tr th:only-of-type {\n",
              "        vertical-align: middle;\n",
              "    }\n",
              "\n",
              "    .dataframe tbody tr th {\n",
              "        vertical-align: top;\n",
              "    }\n",
              "\n",
              "    .dataframe thead th {\n",
              "        text-align: right;\n",
              "    }\n",
              "</style>\n",
              "<table border=\"1\" class=\"dataframe\">\n",
              "  <thead>\n",
              "    <tr style=\"text-align: right;\">\n",
              "      <th></th>\n",
              "      <th>relative_path</th>\n",
              "      <th>instrument</th>\n",
              "      <th>dastgah</th>\n",
              "      <th>artist</th>\n",
              "    </tr>\n",
              "  </thead>\n",
              "  <tbody>\n",
              "    <tr>\n",
              "      <th>0</th>\n",
              "      <td>/content/nava/Data/1_0_08_09.mp3</td>\n",
              "      <td>1</td>\n",
              "      <td>0</td>\n",
              "      <td>8</td>\n",
              "    </tr>\n",
              "    <tr>\n",
              "      <th>1</th>\n",
              "      <td>/content/nava/Data/1_0_08_11.mp3</td>\n",
              "      <td>1</td>\n",
              "      <td>0</td>\n",
              "      <td>8</td>\n",
              "    </tr>\n",
              "    <tr>\n",
              "      <th>2</th>\n",
              "      <td>/content/nava/Data/1_0_08_07.mp3</td>\n",
              "      <td>1</td>\n",
              "      <td>0</td>\n",
              "      <td>8</td>\n",
              "    </tr>\n",
              "    <tr>\n",
              "      <th>3</th>\n",
              "      <td>/content/nava/Data/1_0_08_12.mp3</td>\n",
              "      <td>1</td>\n",
              "      <td>0</td>\n",
              "      <td>8</td>\n",
              "    </tr>\n",
              "    <tr>\n",
              "      <th>4</th>\n",
              "      <td>/content/nava/Data/1_0_08_06.mp3</td>\n",
              "      <td>1</td>\n",
              "      <td>0</td>\n",
              "      <td>8</td>\n",
              "    </tr>\n",
              "  </tbody>\n",
              "</table>\n",
              "</div>\n",
              "    <div class=\"colab-df-buttons\">\n",
              "\n",
              "  <div class=\"colab-df-container\">\n",
              "    <button class=\"colab-df-convert\" onclick=\"convertToInteractive('df-60e45cca-1001-4b9f-8f6f-17a7e3316ce6')\"\n",
              "            title=\"Convert this dataframe to an interactive table.\"\n",
              "            style=\"display:none;\">\n",
              "\n",
              "  <svg xmlns=\"http://www.w3.org/2000/svg\" height=\"24px\" viewBox=\"0 -960 960 960\">\n",
              "    <path d=\"M120-120v-720h720v720H120Zm60-500h600v-160H180v160Zm220 220h160v-160H400v160Zm0 220h160v-160H400v160ZM180-400h160v-160H180v160Zm440 0h160v-160H620v160ZM180-180h160v-160H180v160Zm440 0h160v-160H620v160Z\"/>\n",
              "  </svg>\n",
              "    </button>\n",
              "\n",
              "  <style>\n",
              "    .colab-df-container {\n",
              "      display:flex;\n",
              "      gap: 12px;\n",
              "    }\n",
              "\n",
              "    .colab-df-convert {\n",
              "      background-color: #E8F0FE;\n",
              "      border: none;\n",
              "      border-radius: 50%;\n",
              "      cursor: pointer;\n",
              "      display: none;\n",
              "      fill: #1967D2;\n",
              "      height: 32px;\n",
              "      padding: 0 0 0 0;\n",
              "      width: 32px;\n",
              "    }\n",
              "\n",
              "    .colab-df-convert:hover {\n",
              "      background-color: #E2EBFA;\n",
              "      box-shadow: 0px 1px 2px rgba(60, 64, 67, 0.3), 0px 1px 3px 1px rgba(60, 64, 67, 0.15);\n",
              "      fill: #174EA6;\n",
              "    }\n",
              "\n",
              "    .colab-df-buttons div {\n",
              "      margin-bottom: 4px;\n",
              "    }\n",
              "\n",
              "    [theme=dark] .colab-df-convert {\n",
              "      background-color: #3B4455;\n",
              "      fill: #D2E3FC;\n",
              "    }\n",
              "\n",
              "    [theme=dark] .colab-df-convert:hover {\n",
              "      background-color: #434B5C;\n",
              "      box-shadow: 0px 1px 3px 1px rgba(0, 0, 0, 0.15);\n",
              "      filter: drop-shadow(0px 1px 2px rgba(0, 0, 0, 0.3));\n",
              "      fill: #FFFFFF;\n",
              "    }\n",
              "  </style>\n",
              "\n",
              "    <script>\n",
              "      const buttonEl =\n",
              "        document.querySelector('#df-60e45cca-1001-4b9f-8f6f-17a7e3316ce6 button.colab-df-convert');\n",
              "      buttonEl.style.display =\n",
              "        google.colab.kernel.accessAllowed ? 'block' : 'none';\n",
              "\n",
              "      async function convertToInteractive(key) {\n",
              "        const element = document.querySelector('#df-60e45cca-1001-4b9f-8f6f-17a7e3316ce6');\n",
              "        const dataTable =\n",
              "          await google.colab.kernel.invokeFunction('convertToInteractive',\n",
              "                                                    [key], {});\n",
              "        if (!dataTable) return;\n",
              "\n",
              "        const docLinkHtml = 'Like what you see? Visit the ' +\n",
              "          '<a target=\"_blank\" href=https://colab.research.google.com/notebooks/data_table.ipynb>data table notebook</a>'\n",
              "          + ' to learn more about interactive tables.';\n",
              "        element.innerHTML = '';\n",
              "        dataTable['output_type'] = 'display_data';\n",
              "        await google.colab.output.renderOutput(dataTable, element);\n",
              "        const docLink = document.createElement('div');\n",
              "        docLink.innerHTML = docLinkHtml;\n",
              "        element.appendChild(docLink);\n",
              "      }\n",
              "    </script>\n",
              "  </div>\n",
              "\n",
              "\n",
              "<div id=\"df-2360c224-70a4-4df8-8ea9-8941e727df1e\">\n",
              "  <button class=\"colab-df-quickchart\" onclick=\"quickchart('df-2360c224-70a4-4df8-8ea9-8941e727df1e')\"\n",
              "            title=\"Suggest charts\"\n",
              "            style=\"display:none;\">\n",
              "\n",
              "<svg xmlns=\"http://www.w3.org/2000/svg\" height=\"24px\"viewBox=\"0 0 24 24\"\n",
              "     width=\"24px\">\n",
              "    <g>\n",
              "        <path d=\"M19 3H5c-1.1 0-2 .9-2 2v14c0 1.1.9 2 2 2h14c1.1 0 2-.9 2-2V5c0-1.1-.9-2-2-2zM9 17H7v-7h2v7zm4 0h-2V7h2v10zm4 0h-2v-4h2v4z\"/>\n",
              "    </g>\n",
              "</svg>\n",
              "  </button>\n",
              "\n",
              "<style>\n",
              "  .colab-df-quickchart {\n",
              "      --bg-color: #E8F0FE;\n",
              "      --fill-color: #1967D2;\n",
              "      --hover-bg-color: #E2EBFA;\n",
              "      --hover-fill-color: #174EA6;\n",
              "      --disabled-fill-color: #AAA;\n",
              "      --disabled-bg-color: #DDD;\n",
              "  }\n",
              "\n",
              "  [theme=dark] .colab-df-quickchart {\n",
              "      --bg-color: #3B4455;\n",
              "      --fill-color: #D2E3FC;\n",
              "      --hover-bg-color: #434B5C;\n",
              "      --hover-fill-color: #FFFFFF;\n",
              "      --disabled-bg-color: #3B4455;\n",
              "      --disabled-fill-color: #666;\n",
              "  }\n",
              "\n",
              "  .colab-df-quickchart {\n",
              "    background-color: var(--bg-color);\n",
              "    border: none;\n",
              "    border-radius: 50%;\n",
              "    cursor: pointer;\n",
              "    display: none;\n",
              "    fill: var(--fill-color);\n",
              "    height: 32px;\n",
              "    padding: 0;\n",
              "    width: 32px;\n",
              "  }\n",
              "\n",
              "  .colab-df-quickchart:hover {\n",
              "    background-color: var(--hover-bg-color);\n",
              "    box-shadow: 0 1px 2px rgba(60, 64, 67, 0.3), 0 1px 3px 1px rgba(60, 64, 67, 0.15);\n",
              "    fill: var(--button-hover-fill-color);\n",
              "  }\n",
              "\n",
              "  .colab-df-quickchart-complete:disabled,\n",
              "  .colab-df-quickchart-complete:disabled:hover {\n",
              "    background-color: var(--disabled-bg-color);\n",
              "    fill: var(--disabled-fill-color);\n",
              "    box-shadow: none;\n",
              "  }\n",
              "\n",
              "  .colab-df-spinner {\n",
              "    border: 2px solid var(--fill-color);\n",
              "    border-color: transparent;\n",
              "    border-bottom-color: var(--fill-color);\n",
              "    animation:\n",
              "      spin 1s steps(1) infinite;\n",
              "  }\n",
              "\n",
              "  @keyframes spin {\n",
              "    0% {\n",
              "      border-color: transparent;\n",
              "      border-bottom-color: var(--fill-color);\n",
              "      border-left-color: var(--fill-color);\n",
              "    }\n",
              "    20% {\n",
              "      border-color: transparent;\n",
              "      border-left-color: var(--fill-color);\n",
              "      border-top-color: var(--fill-color);\n",
              "    }\n",
              "    30% {\n",
              "      border-color: transparent;\n",
              "      border-left-color: var(--fill-color);\n",
              "      border-top-color: var(--fill-color);\n",
              "      border-right-color: var(--fill-color);\n",
              "    }\n",
              "    40% {\n",
              "      border-color: transparent;\n",
              "      border-right-color: var(--fill-color);\n",
              "      border-top-color: var(--fill-color);\n",
              "    }\n",
              "    60% {\n",
              "      border-color: transparent;\n",
              "      border-right-color: var(--fill-color);\n",
              "    }\n",
              "    80% {\n",
              "      border-color: transparent;\n",
              "      border-right-color: var(--fill-color);\n",
              "      border-bottom-color: var(--fill-color);\n",
              "    }\n",
              "    90% {\n",
              "      border-color: transparent;\n",
              "      border-bottom-color: var(--fill-color);\n",
              "    }\n",
              "  }\n",
              "</style>\n",
              "\n",
              "  <script>\n",
              "    async function quickchart(key) {\n",
              "      const quickchartButtonEl =\n",
              "        document.querySelector('#' + key + ' button');\n",
              "      quickchartButtonEl.disabled = true;  // To prevent multiple clicks.\n",
              "      quickchartButtonEl.classList.add('colab-df-spinner');\n",
              "      try {\n",
              "        const charts = await google.colab.kernel.invokeFunction(\n",
              "            'suggestCharts', [key], {});\n",
              "      } catch (error) {\n",
              "        console.error('Error during call to suggestCharts:', error);\n",
              "      }\n",
              "      quickchartButtonEl.classList.remove('colab-df-spinner');\n",
              "      quickchartButtonEl.classList.add('colab-df-quickchart-complete');\n",
              "    }\n",
              "    (() => {\n",
              "      let quickchartButtonEl =\n",
              "        document.querySelector('#df-2360c224-70a4-4df8-8ea9-8941e727df1e button');\n",
              "      quickchartButtonEl.style.display =\n",
              "        google.colab.kernel.accessAllowed ? 'block' : 'none';\n",
              "    })();\n",
              "  </script>\n",
              "</div>\n",
              "\n",
              "    </div>\n",
              "  </div>\n"
            ]
          },
          "metadata": {},
          "execution_count": 7
        }
      ],
      "source": [
        "train.head()"
      ]
    },
    {
      "cell_type": "markdown",
      "metadata": {
        "id": "LDA4iF1R5THe"
      },
      "source": [
        "Plot the distribution for each class ID in the train set"
      ]
    },
    {
      "cell_type": "code",
      "execution_count": 8,
      "metadata": {
        "colab": {
          "base_uri": "https://localhost:8080/",
          "height": 407
        },
        "id": "hJ7uUmHS5zse",
        "outputId": "524942e5-27bf-4b45-9310-e78c20529bdd"
      },
      "outputs": [
        {
          "output_type": "display_data",
          "data": {
            "text/plain": [
              "<Figure size 2000x400 with 3 Axes>"
            ],
            "image/png": "[encoded data removed]"
          },
          "metadata": {}
        }
      ],
      "source": [
        "import matplotlib.pyplot as plt\n",
        "\n",
        "instrument_counts = train['instrument'].value_counts()\n",
        "dastgah_counts = train['dastgah'].value_counts()\n",
        "artist_counts = train['artist'].value_counts()\n",
        "\n",
        "fig, axes = plt.subplots(1, 3, figsize=(20, 4))\n",
        "\n",
        "instrument_counts.plot(kind='bar', ax=axes[0])\n",
        "axes[0].set_title('Instrument Distribution')\n",
        "\n",
        "dastgah_counts.plot(kind='bar', ax=axes[1], color='red')\n",
        "axes[1].set_title('Dastgah Distribution')\n",
        "\n",
        "artist_counts.plot(kind='bar', ax=axes[2], color='green')\n",
        "axes[2].set_title('Artist Distribution')\n",
        "\n",
        "plt.tight_layout()\n",
        "plt.show()"
      ]
    },
    {
      "cell_type": "markdown",
      "source": [
        "Plot the distribution for each class ID in the valisation set"
      ],
      "metadata": {
        "id": "ms7XBsfTB_gl"
      }
    },
    {
      "cell_type": "code",
      "source": [
        "instrument_counts = validation['instrument'].value_counts()\n",
        "dastgah_counts = validation['dastgah'].value_counts()\n",
        "artist_counts = validation['artist'].value_counts()\n",
        "\n",
        "fig, axes = plt.subplots(1, 3, figsize=(20, 4))\n",
        "\n",
        "instrument_counts.plot(kind='bar', ax=axes[0])\n",
        "axes[0].set_title('Instrument Distribution')\n",
        "\n",
        "dastgah_counts.plot(kind='bar', ax=axes[1], color='red')\n",
        "axes[1].set_title('Dastgah Distribution')\n",
        "\n",
        "artist_counts.plot(kind='bar', ax=axes[2], color='green')\n",
        "axes[2].set_title('Artist Distribution')\n",
        "\n",
        "plt.tight_layout()\n",
        "plt.show()"
      ],
      "metadata": {
        "colab": {
          "base_uri": "https://localhost:8080/",
          "height": 407
        },
        "id": "ssTKw_CJCCW3",
        "outputId": "4e507941-5411-40c8-9ab7-7207279487d8"
      },
      "execution_count": 9,
      "outputs": [
        {
          "output_type": "display_data",
          "data": {
            "text/plain": [
              "<Figure size 2000x400 with 3 Axes>"
            ],
            "image/png": "[encoded data removed]"
          },
          "metadata": {}
        }
      ]
    },
    {
      "cell_type": "markdown",
      "metadata": {
        "id": "qIbObwl35z1h"
      },
      "source": [
        "Plot the distribution for each class ID in the test set"
      ]
    },
    {
      "cell_type": "code",
      "execution_count": 10,
      "metadata": {
        "colab": {
          "base_uri": "https://localhost:8080/",
          "height": 407
        },
        "id": "CMatzJTv3kpi",
        "outputId": "2c86ade9-b9ef-4ee5-e01b-91e0e2a60884"
      },
      "outputs": [
        {
          "output_type": "display_data",
          "data": {
            "text/plain": [
              "<Figure size 2000x400 with 3 Axes>"
            ],
            "image/png": "[encoded data removed]"
          },
          "metadata": {}
        }
      ],
      "source": [
        "instrument_counts = test['instrument'].value_counts()\n",
        "dastgah_counts = test['dastgah'].value_counts()\n",
        "artist_counts = test['artist'].value_counts()\n",
        "\n",
        "fig, axes = plt.subplots(1, 3, figsize=(20, 4))\n",
        "\n",
        "instrument_counts.plot(kind='bar', ax=axes[0])\n",
        "axes[0].set_title('Instrument Distribution')\n",
        "\n",
        "dastgah_counts.plot(kind='bar', ax=axes[1], color='red')\n",
        "axes[1].set_title('Dastgah Distribution')\n",
        "\n",
        "artist_counts.plot(kind='bar', ax=axes[2], color='green')\n",
        "axes[2].set_title('Artist Distribution')\n",
        "\n",
        "plt.tight_layout()\n",
        "plt.show()"
      ]
    },
    {
      "cell_type": "markdown",
      "metadata": {
        "id": "3ZBcskje6JFT"
      },
      "source": [
        "Show one file"
      ]
    },
    {
      "cell_type": "code",
      "execution_count": 11,
      "metadata": {
        "colab": {
          "base_uri": "https://localhost:8080/",
          "height": 472
        },
        "id": "npQU5nlqxfdi",
        "outputId": "0c4a974c-aa03-42c3-f680-6059cd614ac3"
      },
      "outputs": [
        {
          "output_type": "display_data",
          "data": {
            "text/plain": [
              "<Figure size 640x480 with 1 Axes>"
            ],
            "image/png": "[encoded data removed]"
          },
          "metadata": {}
        }
      ],
      "source": [
        "import torchaudio\n",
        "\n",
        "\n",
        "waveform, sample_rate = torchaudio.load(train['relative_path'][5])\n",
        "\n",
        "plt.plot(waveform.T.numpy())\n",
        "plt.title('Waveform')\n",
        "plt.xlabel('Sample')\n",
        "plt.ylabel('Amplitude')\n",
        "plt.show()"
      ]
    },
    {
      "cell_type": "markdown",
      "metadata": {
        "id": "hHc5iQ4r6VxV"
      },
      "source": [
        "Show the MFCC for that file"
      ]
    },
    {
      "cell_type": "code",
      "execution_count": 12,
      "metadata": {
        "colab": {
          "base_uri": "https://localhost:8080/",
          "height": 445
        },
        "id": "FYH5iNebx60Y",
        "outputId": "2dc975ee-682a-4c81-e91f-5e7c4eff8bb2"
      },
      "outputs": [
        {
          "output_type": "stream",
          "name": "stderr",
          "text": [
            "/usr/local/lib/python3.10/dist-packages/torchaudio/functional/functional.py:584: UserWarning: At least one mel filterbank has all zero values. The value for `n_mels` (128) may be set too high. Or, the value for `n_freqs` (201) may be set too low.\n",
            "  warnings.warn(\n"
          ]
        },
        {
          "output_type": "display_data",
          "data": {
            "text/plain": [
              "<Figure size 1000x400 with 1 Axes>"
            ],
            "image/png": "[encoded data removed]"
          },
          "metadata": {}
        }
      ],
      "source": [
        "import torchaudio.transforms as T\n",
        "\n",
        "mfcc_transform = T.MFCC(sample_rate=sample_rate, n_mfcc=13)\n",
        "mfcc = mfcc_transform(waveform)\n",
        "\n",
        "plt.figure(figsize=(10, 4))\n",
        "plt.imshow(mfcc[0].detach().numpy(), cmap='viridis', aspect='auto', origin='lower')\n",
        "plt.title('MFCC')\n",
        "plt.xlabel('Frame')\n",
        "plt.ylabel('MFCC Coefficient')\n",
        "plt.show()"
      ]
    },
    {
      "cell_type": "markdown",
      "metadata": {
        "id": "2U4-FmOAQQWp"
      },
      "source": [
        "Deine a class to read audio, resample and adjust the length for training"
      ]
    },
    {
      "cell_type": "code",
      "execution_count": null,
      "metadata": {
        "id": "KiIiPEPdBXkj"
      },
      "outputs": [],
      "source": [
        "import math, random\n",
        "import torch\n",
        "from torchaudio import transforms\n",
        "from IPython.display import Audio\n",
        "\n",
        "class AudioUtil():\n",
        "\n",
        "  @staticmethod\n",
        "  def open(audio_file, newsr, max_ms):\n",
        "    sig, sr = torchaudio.load(audio_file)\n",
        "\n",
        "    # Convert to mono channel\n",
        "    resign = torch.mean(sig, dim=0)\n",
        "\n",
        "    # Resample with the new sample rate\n",
        "    if (sr != newsr):\n",
        "        resig = torchaudio.transforms.Resample(sr, newsr)(resign)\n",
        "\n",
        "    # Truncate to the indicated lenght (max_ms) if needed\n",
        "    sig_len = resig.shape.numel()\n",
        "    max_len = newsr//1000 * max_ms\n",
        "\n",
        "    resigs = []\n",
        "\n",
        "    # Segment the signals into max_len parts\n",
        "    if (sig_len > max_len):\n",
        "      num_segments = sig_len // max_len\n",
        "      for i in range(num_segments):\n",
        "            # Truncate the signal to the given length\n",
        "            start = i * max_len\n",
        "            end = (i + 1) * max_len\n",
        "            segment_resig = resig[start:end]\n",
        "            resigs.append(segment_resig.numpy())\n",
        "\n",
        "    # This section would not be activated at all; however, we add that for the matter of completeness\n",
        "    elif (sig_len < max_len):\n",
        "      # Length of padding to add at the beginning and end of the signal\n",
        "      pad_begin_len = random.randint(0, max_len - sig_len)\n",
        "      pad_end_len = max_len - sig_len - pad_begin_len\n",
        "\n",
        "      # Pad with 0s\n",
        "      pad_begin = torch.zeros((1, pad_begin_len))\n",
        "      pad_end = torch.zeros((1, pad_end_len))\n",
        "\n",
        "      resigs.append(torch.cat((pad_begin, resig, pad_end), 1).numpy())\n",
        "\n",
        "    return resigs"
      ]
    },
    {
      "cell_type": "markdown",
      "metadata": {
        "id": "RsK3BItKREcD"
      },
      "source": [
        "Define the dataset for loading audio and extracting its MERT representation"
      ]
    },
    {
      "cell_type": "code",
      "execution_count": null,
      "metadata": {
        "id": "OqHYh0dcIVyg"
      },
      "outputs": [],
      "source": [
        "from torch.utils.data import DataLoader, Dataset\n",
        "from transformers import Wav2Vec2FeatureExtractor\n",
        "from transformers import AutoModel\n",
        "from torch import nn\n",
        "\n",
        "\n",
        "\n",
        "# Sound Dataset\n",
        "class SoundDS(Dataset):\n",
        "    def __init__(self, df):\n",
        "        self.df = df\n",
        "        self.duration = 5000 #5s\n",
        "        self.sr = 24000\n",
        "        self.channel = 1\n",
        "        self.shift_pct = 0.4\n",
        "\n",
        "        # Load model weights\n",
        "        self.model = AutoModel.from_pretrained(\"m-a-p/MERT-v1-95M\", trust_remote_code=True)\n",
        "\n",
        "        # Load the corresponding preprocessor config\n",
        "        self.processor = Wav2Vec2FeatureExtractor.from_pretrained(\"m-a-p/MERT-v1-95M\",trust_remote_code=True)\n",
        "        self.resample_rate = self.processor.sampling_rate\n",
        "\n",
        "    def __len__(self):\n",
        "          return len(self.df)\n",
        "\n",
        "    # Get i'th item in dataset\n",
        "    def __getitem__(self, idx, batch_size = 2, tag = ['instrument', 'dastgah', 'artist']):\n",
        "        class_id = self.df.loc[idx, tag]\n",
        "        aud = AudioUtil.open(self.df.loc[idx, 'relative_path'], self.sr, self.duration)\n",
        "\n",
        "        # Devide into batch_size patches\n",
        "        aud_length = len(aud)\n",
        "        patches = []\n",
        "        for i in range(0, aud_length, batch_size):  # Create patches with specified size\n",
        "            patch = aud[i:min(i + batch_size, aud_length)]\n",
        "            patches.append(patch)\n",
        "\n",
        "        representations = []\n",
        "        for patch in patches:\n",
        "            inputs = self.processor(patch, sampling_rate=self.resample_rate, return_tensors=\"pt\", padding=True)\n",
        "            with torch.no_grad():\n",
        "                outputs = self.model(**inputs, output_hidden_states=True)\n",
        "            representation = torch.stack(outputs.hidden_states).transpose(0, 1).mean(-2)\n",
        "            representations.append(representation)\n",
        "\n",
        "        item_representation = torch.cat(representations, dim=0)\n",
        "        class_ids = torch.tensor(class_id).unsqueeze(1).repeat(1, aud_length)\n",
        "        return item_representation, class_ids\n"
      ]
    },
    {
      "cell_type": "code",
      "execution_count": null,
      "metadata": {
        "colab": {
          "base_uri": "https://localhost:8080/",
          "height": 714,
          "referenced_widgets": [
            "f3faab07e4ee42ce9af8cb7ae8b507d1",
            "f5ca4f8f1653466f90561dec55cd25e6",
            "1ffdd5a3357d45d881feacdb52abe41a",
            "76f40837733c413cbb45febfad8f0133",
            "5a33a4839dc04741bb88aa3fbc67e854",
            "f21f5d65bba243368ffeb06ec0cd2066",
            "e600df4c32ec41c28d2c1039f910fa84",
            "0fbbadc77d81431fad9c2c6fb188b20c",
            "f81c218eb3de475fa6e9e97f1eed4083",
            "caa1738b5c874240a994873650d470ad",
            "2dc3b2773c394935a37b3cd0ab515bd3",
            "0b00c5ec4f504c7c8f531cc3c06afb23",
            "67d94b0649a546149347a9b4df8ea2e3",
            "49331894f9674fd789c421f1a9e9403a",
            "fa213300374d4eadb183d75265b3d29c",
            "197cc121f8564fa0ab95e2a9e201c9d7",
            "eda8956677ca46d19578d1758ab7ac23",
            "17c4b36af4154f5c957276aea1f66148",
            "c0f5282f96cf45d39fa7d119fe34e7d4",
            "853622c13b6f493f914937a7a22e5bc3",
            "a0c2e0cedff24c83bce3f96a6c2d9667",
            "83085191d2d04e6ca5e9597ab73fdeb4",
            "756ca580ac4f4498be8814fced180090",
            "a4c524f0cb3445dcb4c6e93db312590c",
            "07da6668dce1402781758fdcc2a3eb9a",
            "1d0015d0e2204d79a2d70785753d2204",
            "92055e5b7fe243af87756aca35d8b8be",
            "243ad35bc55a46509baf8e2644d0136f",
            "fed70019e55d4f6986f24f126c9bed85",
            "2b4e3e0c58114a9b9e0e3d1531633e9f",
            "8959be64e702442c9258ecb25ee910b8",
            "b10013b0cce74e55892f1255d66220f2",
            "ef8fcce49f7f4588a75a37fdd4d4ccc7",
            "0993ca0dae6746f2bbfe254d9db6352d",
            "cd4b12c6520246f3b13cb4564a46105e",
            "1be6f9efba9e4582b72e309017c8e5bb",
            "3784a51226064837802186727cb0c3b6",
            "d387a2a2999d4cf5b7dc617b1937cac3",
            "83a0446a495c4a1d853a324d02d9f98c",
            "335503407ca540148d6e47bb3161e74e",
            "f2af0877bb9f4380802948fbdd4119ae",
            "a03ef89f3c1540189216abd2b96651e4",
            "1675fc029a8d4c4fae9d35cbda28aa11",
            "e8cf3a5acb28417b8452863b1a9fe4b5",
            "afb6005b9d984e6daa9023e07fa695a6",
            "23ec949295a54920bc01144529dccfff",
            "1483eb22f578417999c93fea25f97581",
            "5d5aeae78eac466eb7c2ff55fe6142e5",
            "eb460f8289514e788445dc952fcbcc09",
            "1f47b49fe5694b08baa66ae8b3d82aae",
            "de059d34575940989816d32f66989166",
            "c18ae4fcb3fa4cb08c9d33ceeaea56fc",
            "0357dab7dcdf44dda3d220462faa0833",
            "3ab6a3733e594c118df7cad401b1b676",
            "bf38c646f4a14cecbd45988db8b30d43"
          ]
        },
        "id": "9W1ixsB4KY3i",
        "outputId": "ac94df4f-5d5e-4074-8b84-6de778507b00"
      },
      "outputs": [
        {
          "output_type": "stream",
          "name": "stderr",
          "text": [
            "/usr/local/lib/python3.10/dist-packages/huggingface_hub/utils/_token.py:72: UserWarning: \n",
            "The secret `HF_TOKEN` does not exist in your Colab secrets.\n",
            "To authenticate with the Hugging Face Hub, create a token in your settings tab (https://huggingface.co/settings/tokens), set it as secret in your Google Colab and restart your session.\n",
            "You will be able to reuse this secret in all of your notebooks.\n",
            "Please note that authentication is recommended but still optional to access public models or datasets.\n",
            "  warnings.warn(\n"
          ]
        },
        {
          "output_type": "display_data",
          "data": {
            "text/plain": [
              "config.json:   0%|          | 0.00/1.82k [00:00<?, ?B/s]"
            ],
            "application/vnd.jupyter.widget-view+json": {
              "version_major": 2,
              "version_minor": 0,
              "model_id": "f3faab07e4ee42ce9af8cb7ae8b507d1"
            }
          },
          "metadata": {}
        },
        {
          "output_type": "display_data",
          "data": {
            "text/plain": [
              "configuration_MERT.py:   0%|          | 0.00/5.26k [00:00<?, ?B/s]"
            ],
            "application/vnd.jupyter.widget-view+json": {
              "version_major": 2,
              "version_minor": 0,
              "model_id": "0b00c5ec4f504c7c8f531cc3c06afb23"
            }
          },
          "metadata": {}
        },
        {
          "output_type": "stream",
          "name": "stderr",
          "text": [
            "A new version of the following files was downloaded from https://huggingface.co/m-a-p/MERT-v1-95M:\n",
            "- configuration_MERT.py\n",
            ". Make sure to double-check they do not contain any added malicious code. To avoid downloading new versions of the code file, you can pin a revision.\n"
          ]
        },
        {
          "output_type": "display_data",
          "data": {
            "text/plain": [
              "modeling_MERT.py:   0%|          | 0.00/18.0k [00:00<?, ?B/s]"
            ],
            "application/vnd.jupyter.widget-view+json": {
              "version_major": 2,
              "version_minor": 0,
              "model_id": "756ca580ac4f4498be8814fced180090"
            }
          },
          "metadata": {}
        },
        {
          "output_type": "stream",
          "name": "stderr",
          "text": [
            "A new version of the following files was downloaded from https://huggingface.co/m-a-p/MERT-v1-95M:\n",
            "- modeling_MERT.py\n",
            ". Make sure to double-check they do not contain any added malicious code. To avoid downloading new versions of the code file, you can pin a revision.\n"
          ]
        },
        {
          "output_type": "stream",
          "name": "stdout",
          "text": [
            "WARNING: feature_extractor_cqt requires the libray 'nnAudio'\n"
          ]
        },
        {
          "output_type": "display_data",
          "data": {
            "text/plain": [
              "pytorch_model.bin:   0%|          | 0.00/378M [00:00<?, ?B/s]"
            ],
            "application/vnd.jupyter.widget-view+json": {
              "version_major": 2,
              "version_minor": 0,
              "model_id": "0993ca0dae6746f2bbfe254d9db6352d"
            }
          },
          "metadata": {}
        },
        {
          "output_type": "stream",
          "name": "stderr",
          "text": [
            "Some weights of the model checkpoint at m-a-p/MERT-v1-95M were not used when initializing MERTModel: ['encoder.pos_conv_embed.conv.weight_v', 'encoder.pos_conv_embed.conv.weight_g']\n",
            "- This IS expected if you are initializing MERTModel from the checkpoint of a model trained on another task or with another architecture (e.g. initializing a BertForSequenceClassification model from a BertForPreTraining model).\n",
            "- This IS NOT expected if you are initializing MERTModel from the checkpoint of a model that you expect to be exactly identical (initializing a BertForSequenceClassification model from a BertForSequenceClassification model).\n",
            "Some weights of MERTModel were not initialized from the model checkpoint at m-a-p/MERT-v1-95M and are newly initialized: ['encoder.pos_conv_embed.conv.parametrizations.weight.original0', 'encoder.pos_conv_embed.conv.parametrizations.weight.original1']\n",
            "You should probably TRAIN this model on a down-stream task to be able to use it for predictions and inference.\n"
          ]
        },
        {
          "output_type": "display_data",
          "data": {
            "text/plain": [
              "preprocessor_config.json:   0%|          | 0.00/211 [00:00<?, ?B/s]"
            ],
            "application/vnd.jupyter.widget-view+json": {
              "version_major": 2,
              "version_minor": 0,
              "model_id": "afb6005b9d984e6daa9023e07fa695a6"
            }
          },
          "metadata": {}
        },
        {
          "output_type": "stream",
          "name": "stderr",
          "text": [
            "Some weights of the model checkpoint at m-a-p/MERT-v1-95M were not used when initializing MERTModel: ['encoder.pos_conv_embed.conv.weight_v', 'encoder.pos_conv_embed.conv.weight_g']\n",
            "- This IS expected if you are initializing MERTModel from the checkpoint of a model trained on another task or with another architecture (e.g. initializing a BertForSequenceClassification model from a BertForPreTraining model).\n",
            "- This IS NOT expected if you are initializing MERTModel from the checkpoint of a model that you expect to be exactly identical (initializing a BertForSequenceClassification model from a BertForSequenceClassification model).\n",
            "Some weights of MERTModel were not initialized from the model checkpoint at m-a-p/MERT-v1-95M and are newly initialized: ['encoder.pos_conv_embed.conv.parametrizations.weight.original0', 'encoder.pos_conv_embed.conv.parametrizations.weight.original1']\n",
            "You should probably TRAIN this model on a down-stream task to be able to use it for predictions and inference.\n",
            "Some weights of the model checkpoint at m-a-p/MERT-v1-95M were not used when initializing MERTModel: ['encoder.pos_conv_embed.conv.weight_v', 'encoder.pos_conv_embed.conv.weight_g']\n",
            "- This IS expected if you are initializing MERTModel from the checkpoint of a model trained on another task or with another architecture (e.g. initializing a BertForSequenceClassification model from a BertForPreTraining model).\n",
            "- This IS NOT expected if you are initializing MERTModel from the checkpoint of a model that you expect to be exactly identical (initializing a BertForSequenceClassification model from a BertForSequenceClassification model).\n",
            "Some weights of MERTModel were not initialized from the model checkpoint at m-a-p/MERT-v1-95M and are newly initialized: ['encoder.pos_conv_embed.conv.parametrizations.weight.original0', 'encoder.pos_conv_embed.conv.parametrizations.weight.original1']\n",
            "You should probably TRAIN this model on a down-stream task to be able to use it for predictions and inference.\n"
          ]
        }
      ],
      "source": [
        "train_ds = SoundDS(train)\n",
        "test_ds = SoundDS(test)\n",
        "val_ds = SoundDS(validation)\n",
        "\n",
        "train_dl = torch.utils.data.DataLoader(train_ds, batch_size=16, shuffle=True)\n",
        "test_dl = torch.utils.data.DataLoader(test_ds, batch_size=16, shuffle=False)\n",
        "val_dl = torch.utils.data.DataLoader(val_ds, batch_size=16, shuffle=False)"
      ]
    },
    {
      "cell_type": "markdown",
      "metadata": {
        "id": "Ag-DiOsKRss2"
      },
      "source": [
        "As feature extraction on-fly is time-allocating, we extract features for all data points and pickle the data to reduce the training overhead."
      ]
    },
    {
      "cell_type": "code",
      "execution_count": null,
      "metadata": {
        "id": "pFzDywyhVDjP"
      },
      "outputs": [],
      "source": [
        "import pickle\n",
        "import numpy as np\n",
        "\n",
        "def pickle_features(data_ds, save_path):\n",
        "    features_list = []\n",
        "    instrument_list = []\n",
        "    dastgah_list = []\n",
        "    artist_list = []\n",
        "\n",
        "    for i in range(len('22w')):\n",
        "        print(i)\n",
        "        # Extract the representation\n",
        "        features, classid = data_ds[i]\n",
        "\n",
        "        features_list +=  [array for array in features.numpy()]\n",
        "        instrument_list += classid[0].tolist()\n",
        "        dastgah_list += classid[0].tolist()\n",
        "        artist_list += classid[0].tolist()\n",
        "\n",
        "    # Create a dictionary to store data\n",
        "    data = {'features': np.array(features_list), 'instrument': np.array(instrument_list), 'dastgah': np.array(dastgah_list), 'artist': np.array(artist_list)}\n",
        "    # Save the dictionary to a pickle file\n",
        "    with open(save_path, 'wb') as file:\n",
        "        pickle.dump(data, file)\n",
        "\n",
        "    return data\n"
      ]
    },
    {
      "cell_type": "markdown",
      "metadata": {
        "id": "7h5BCbSjSYJ8"
      },
      "source": [
        "Extract and save training and test features and upload it to the drive\n",
        "\n",
        "\n"
      ]
    },
    {
      "cell_type": "code",
      "execution_count": null,
      "metadata": {
        "id": "cxJlPYKLMJN7"
      },
      "outputs": [],
      "source": [
        "pickle_features(train_ds, './train_ds.pkl')\n",
        "pickle_features(test_ds, './test_ds.pkl')\n",
        "pickle_features(val_ds, './val_ds.pkl')"
      ]
    },
    {
      "cell_type": "code",
      "execution_count": null,
      "metadata": {
        "id": "ONg9ahGREdt6"
      },
      "outputs": [],
      "source": [
        "shutil.copy('train_ds.pkl', '/content/drive/MyDrive/')\n",
        "shutil.copy('test_ds.pkl', '/content/drive/MyDrive/')"
      ]
    },
    {
      "cell_type": "code",
      "source": [
        "import shutil\n",
        "shutil.copy('/content/drive/MyDrive/mertrepresentations0/test1_ds.pkl', 'test_ds.pkl')\n",
        "shutil.copy('/content/drive/MyDrive/mertrepresentations0/val1_ds.pkl', 'val_ds.pkl')\n",
        "shutil.copy('/content/drive/MyDrive/mertrepresentations0/train1_ds.pkl', 'train_ds.pkl')"
      ],
      "metadata": {
        "id": "_X4MdK8oFksv",
        "outputId": "42cbac0f-5fc1-4c6d-9369-b09c33bd3ac3",
        "colab": {
          "base_uri": "https://localhost:8080/",
          "height": 36
        }
      },
      "execution_count": null,
      "outputs": [
        {
          "output_type": "execute_result",
          "data": {
            "text/plain": [
              "'train_ds.pkl'"
            ],
            "application/vnd.google.colaboratory.intrinsic+json": {
              "type": "string"
            }
          },
          "metadata": {},
          "execution_count": 5
        }
      ]
    },
    {
      "cell_type": "markdown",
      "metadata": {
        "id": "12OXCBsbTK1p"
      },
      "source": [
        "Now we define two dataloaders:\n",
        "\n",
        "\n",
        "1.   Eager Dataloader: load all the data to the storage; this approach works only for small datasets\n",
        "2.   Lazy Dataloader: load the data on fly to reduce the storage use\n",
        "\n"
      ]
    },
    {
      "cell_type": "code",
      "execution_count": null,
      "metadata": {
        "id": "y9xu0roncdTI"
      },
      "outputs": [],
      "source": [
        "import numpy as np\n",
        "\n",
        "class EagerLoader(Dataset):\n",
        "    def __init__(self, file_path):\n",
        "        self.file_path = file_path\n",
        "\n",
        "        # Load all the pickled data\n",
        "        with open(file_path, 'rb') as file:\n",
        "            data = pickle.load(file)\n",
        "\n",
        "        features_array = np.array(data['features'], dtype=np.float32)\n",
        "        self.features = torch.tensor(features_array)\n",
        "        self.instrument = torch.tensor(data['instrument'], dtype=torch.long)\n",
        "        self.dastgah = torch.tensor(data['dastgah'], dtype=torch.long)\n",
        "        self.artist = torch.tensor(data['artist'], dtype=torch.long)\n",
        "\n",
        "    def __len__(self):\n",
        "        return len(self.features)\n",
        "\n",
        "    def __getitem__(self, idx):\n",
        "        sample = {'features': self.features[idx], 'instrument': self.instrument[idx], 'dastgah': self.dastgah[idx], 'artist': self.artist[idx]}\n",
        "        return sample\n"
      ]
    },
    {
      "cell_type": "code",
      "execution_count": null,
      "metadata": {
        "id": "LwVh0KDAcdV3"
      },
      "outputs": [],
      "source": [
        "class LazyLoader(Dataset):\n",
        "    def __init__(self, file_path):\n",
        "        self.file_path = file_path\n",
        "\n",
        "        # Open the pickled file but do not load it\n",
        "        # Read metadata\n",
        "        self.metadata = pickle.load(self.file_path)\n",
        "        self.num_samples = len(self.metadata['features'])\n",
        "\n",
        "    def __len__(self):\n",
        "        return self.num_samples\n",
        "\n",
        "    def __getitem__(self, idx):\n",
        "\n",
        "        # Load only the required portion of the data\n",
        "        self.file_path.seek(self.metadata['offsets'][idx])\n",
        "        data = pickle.load(self.file_path)\n",
        "\n",
        "        sample = {\n",
        "            'features': torch.tensor(data['features'], dtype=torch.float32),\n",
        "            'instrument': torch.tensor(data['instrument'], dtype=torch.long),\n",
        "            'dastgah': torch.tensor(data['dastgah'], dtype=torch.long)\n",
        "        }\n",
        "\n",
        "        return sample"
      ]
    },
    {
      "cell_type": "markdown",
      "metadata": {
        "id": "bh1pl1qfU2u_"
      },
      "source": [
        "We use the eager dataloader as the dataset consist of less than 100 hours of music."
      ]
    },
    {
      "cell_type": "code",
      "execution_count": null,
      "metadata": {
        "id": "s-AJ7F1jhnhu",
        "colab": {
          "base_uri": "https://localhost:8080/"
        },
        "outputId": "321566f1-68f0-47a5-8e10-464b2d149de7"
      },
      "outputs": [
        {
          "output_type": "stream",
          "name": "stderr",
          "text": [
            "<ipython-input-12-2dd2b47b9076>:13: UserWarning: To copy construct from a tensor, it is recommended to use sourceTensor.clone().detach() or sourceTensor.clone().detach().requires_grad_(True), rather than torch.tensor(sourceTensor).\n",
            "  self.instrument = torch.tensor(data['instrument'], dtype=torch.long)\n",
            "<ipython-input-12-2dd2b47b9076>:14: UserWarning: To copy construct from a tensor, it is recommended to use sourceTensor.clone().detach() or sourceTensor.clone().detach().requires_grad_(True), rather than torch.tensor(sourceTensor).\n",
            "  self.dastgah = torch.tensor(data['dastgah'], dtype=torch.long)\n",
            "<ipython-input-12-2dd2b47b9076>:15: UserWarning: To copy construct from a tensor, it is recommended to use sourceTensor.clone().detach() or sourceTensor.clone().detach().requires_grad_(True), rather than torch.tensor(sourceTensor).\n",
            "  self.artist = torch.tensor(data['artist'], dtype=torch.long)\n"
          ]
        }
      ],
      "source": [
        "train_ds = EagerLoader('./train_ds.pkl')\n",
        "val_ds = EagerLoader('./val_ds.pkl')\n",
        "test_ds = EagerLoader('./test_ds.pkl')\n",
        "\n",
        "train_dl = torch.utils.data.DataLoader(train_ds, batch_size=64, shuffle=True)\n",
        "val_dl = torch.utils.data.DataLoader(val_ds, batch_size=64, shuffle=False)\n",
        "test_dl = torch.utils.data.DataLoader(test_ds, batch_size=64, shuffle=False)"
      ]
    },
    {
      "cell_type": "code",
      "execution_count": null,
      "metadata": {
        "id": "UHikGQaZKlGN"
      },
      "outputs": [],
      "source": [
        "data_iter = iter(train_dl)\n",
        "\n",
        "# Get a single batch\n",
        "try:\n",
        "    batch_data = next(data_iter)\n",
        "except StopIteration:\n",
        "    data_iter = iter(train_dl)\n",
        "    batch_data = next(data_iter)"
      ]
    },
    {
      "cell_type": "markdown",
      "source": [
        "Define different FC networks for the fine-tunning phase"
      ],
      "metadata": {
        "id": "-aJEMWkzuwWU"
      }
    },
    {
      "cell_type": "code",
      "execution_count": null,
      "metadata": {
        "id": "r-x5RHbVE092"
      },
      "outputs": [],
      "source": [
        "class FineTuningLayer(nn.Module):\n",
        "    def __init__(self, input_size, output_size):\n",
        "        super(FineTuningLayer, self).__init__()\n",
        "        self.fc = nn.Linear(input_size, output_size)\n",
        "    def forward(self, x):\n",
        "        x = self.fc(x)\n",
        "        return x\n"
      ]
    },
    {
      "cell_type": "code",
      "execution_count": null,
      "metadata": {
        "id": "GM9m9xS3Xg3B"
      },
      "outputs": [],
      "source": [
        "class FineTuningLayer2(nn.Module):\n",
        "    def __init__(self, input_size, output_size):\n",
        "        super(FineTuningLayer2, self).__init__()\n",
        "        self.fc1 = nn.Linear(input_size, input_size//4)\n",
        "        self.relu = nn.ReLU()\n",
        "        self.fc2 = nn.Linear(input_size//4, output_size)\n",
        "    def forward(self, x):\n",
        "        x = self.fc1(x)\n",
        "        x = self.relu(x)\n",
        "        x = self.fc2(x)\n",
        "        return x\n"
      ]
    },
    {
      "cell_type": "code",
      "source": [
        "class FineTuningLayer3(nn.Module):\n",
        "    def __init__(self, input_size, output_size):\n",
        "        super(FineTuningLayer3, self).__init__()\n",
        "        self.fc1 = nn.Linear(input_size, input_size//2)\n",
        "        self.relu1 = nn.ReLU()\n",
        "        self.fc2 = nn.Linear(input_size//2, input_size//4)\n",
        "        self.relu2 = nn.ReLU()\n",
        "        self.fc3 = nn.Linear(input_size//4, output_size)\n",
        "    def forward(self, x):\n",
        "        x = self.fc1(x)\n",
        "        x = self.relu1(x)\n",
        "        x = self.fc2(x)\n",
        "        x = self.relu1(x)\n",
        "        x = self.fc3(x)\n",
        "        return x"
      ],
      "metadata": {
        "id": "jxczrkc736AK"
      },
      "execution_count": null,
      "outputs": []
    },
    {
      "cell_type": "markdown",
      "source": [
        "Defining the training function"
      ],
      "metadata": {
        "id": "QxmX6pdWvrOs"
      }
    },
    {
      "cell_type": "code",
      "execution_count": null,
      "metadata": {
        "id": "51tUfzGEXPbd"
      },
      "outputs": [],
      "source": [
        "from torch import optim\n",
        "\n",
        "def train(model, train_loader, val_loader, test_loader, num_epochs, learning_rate, training_config, device='cuda'):\n",
        "\n",
        "    # Define loss function and optimizer\n",
        "    criterion = nn.CrossEntropyLoss()\n",
        "    optimizer = optim.Adam(model.parameters(), lr=learning_rate)\n",
        "\n",
        "    # Move model to device\n",
        "    #model.to(device)\n",
        "\n",
        "    # Lists to store training history\n",
        "    train_loss_history = []\n",
        "    train_acc_history = []\n",
        "    val_loss_history = []\n",
        "    val_acc_history = []\n",
        "\n",
        "    for epoch in range(num_epochs):\n",
        "\n",
        "        # Training\n",
        "        model.train()\n",
        "        total_train_loss = 0.0\n",
        "        correct_train = 0\n",
        "        total_train = 0\n",
        "\n",
        "        for data in train_loader:\n",
        "\n",
        "            representations, labels = data['features'][:, training_config['representation'], :], data[training_config['class']]\n",
        "\n",
        "            optimizer.zero_grad()\n",
        "            outputs = model(representations)\n",
        "            loss = criterion(outputs, labels)\n",
        "            loss.backward()\n",
        "            optimizer.step()\n",
        "\n",
        "            total_train_loss += loss.item()\n",
        "            _, predicted = outputs.max(1)\n",
        "            total_train += labels.size(0)\n",
        "            correct_train += predicted.eq(labels).sum().item()\n",
        "\n",
        "        avg_train_loss = total_train_loss / len(train_loader)\n",
        "        train_accuracy = correct_train / total_train\n",
        "\n",
        "        # Testing validation\n",
        "        model.eval()\n",
        "        total_val_loss = 0.0\n",
        "        correct_val = 0\n",
        "        total_val = 0\n",
        "\n",
        "        with torch.no_grad():\n",
        "            for data in val_loader:\n",
        "\n",
        "                representations, labels = data['features'][:, training_config['representation'], :], data[training_config['class']]\n",
        "                print(labels)\n",
        "                outputs = model(representations)\n",
        "                loss = criterion(outputs, labels)\n",
        "\n",
        "                total_val_loss += loss.item()\n",
        "                _, predicted = outputs.max(1)\n",
        "                total_val += labels.size(0)\n",
        "                correct_val += predicted.eq(labels).sum().item()\n",
        "\n",
        "            avg_val_loss = total_val_loss / len(val_loader)\n",
        "            val_accuracy = correct_val / total_val\n",
        "\n",
        "        # Print and save training history\n",
        "        print(f'Epoch {epoch + 1}/{num_epochs} => '\n",
        "              f'Train Loss: {avg_train_loss:.4f}, Train Acc: {train_accuracy:.4f}, '\n",
        "              f'Validation Loss: {avg_val_loss:.4f}, Validation Acc: {val_accuracy:.4f}')\n",
        "\n",
        "        train_loss_history.append(avg_train_loss)\n",
        "        train_acc_history.append(train_accuracy)\n",
        "        val_loss_history.append(avg_val_loss)\n",
        "        val_acc_history.append(val_accuracy)\n",
        "\n",
        "\n",
        "    # Testing validation\n",
        "    model.eval()\n",
        "    total_test_loss = 0.0\n",
        "    correct_test = 0\n",
        "    total_test = 0\n",
        "\n",
        "    with torch.no_grad():\n",
        "        for data in test_loader:\n",
        "\n",
        "            representations, labels = data['features'][:, training_config['representation'], :], data[training_config['class']]\n",
        "            print(labels)\n",
        "            outputs = model(representations)\n",
        "            loss = criterion(outputs, labels)\n",
        "\n",
        "            total_test_loss += loss.item()\n",
        "            _, predicted = outputs.max(1)\n",
        "            total_test += labels.size(0)\n",
        "            correct_test += predicted.eq(labels).sum().item()\n",
        "\n",
        "        avg_test_loss = total_test_loss / len(test_loader)\n",
        "        test_accuracy = correct_test / total_test\n",
        "\n",
        "    print(f'Test Acc: {test_accuracy:.4f}')\n",
        "\n",
        "    # Return the history\n",
        "    history = {\n",
        "        'train_loss': train_loss_history,\n",
        "        'train_acc': train_acc_history,\n",
        "        'val_loss': val_loss_history,\n",
        "        'val_acc': val_acc_history,\n",
        "        'test_acc': test_accuracy\n",
        "\n",
        "    }\n",
        "\n",
        "    return history"
      ]
    },
    {
      "cell_type": "markdown",
      "source": [
        "An exapmle train scenario"
      ],
      "metadata": {
        "id": "dDRRqil_wcKn"
      }
    },
    {
      "cell_type": "code",
      "execution_count": null,
      "metadata": {
        "id": "t4LBGtsfc9Id"
      },
      "outputs": [],
      "source": [
        "input_size = 768\n",
        "output_size = 7\n",
        "model = FineTuningLayer(input_size, output_size)\n",
        "\n",
        "train(model, train_dl, val_dl, test_dl, num_epochs=300, training_config={'representation':3, 'class':'dastgah'},learning_rate=0.001)"
      ]
    }
  ],
  "metadata": {
    "colab": {
      "provenance": [],
      "gpuType": "T4"
    },
    "kernelspec": {
      "display_name": "Python 3",
      "name": "python3"
    },
    "language_info": {
      "name": "python"
    },
    "widgets": {
      "application/vnd.jupyter.widget-state+json": {
        "f3faab07e4ee42ce9af8cb7ae8b507d1": {
          "model_module": "@jupyter-widgets/controls",
          "model_name": "HBoxModel",
          "model_module_version": "1.5.0",
          "state": {
            "_dom_classes": [],
            "_model_module": "@jupyter-widgets/controls",
            "_model_module_version": "1.5.0",
            "_model_name": "HBoxModel",
            "_view_count": null,
            "_view_module": "@jupyter-widgets/controls",
            "_view_module_version": "1.5.0",
            "_view_name": "HBoxView",
            "box_style": "",
            "children": [
              "IPY_MODEL_f5ca4f8f1653466f90561dec55cd25e6",
              "IPY_MODEL_1ffdd5a3357d45d881feacdb52abe41a",
              "IPY_MODEL_76f40837733c413cbb45febfad8f0133"
            ],
            "layout": "IPY_MODEL_5a33a4839dc04741bb88aa3fbc67e854"
          }
        },
        "f5ca4f8f1653466f90561dec55cd25e6": {
          "model_module": "@jupyter-widgets/controls",
          "model_name": "HTMLModel",
          "model_module_version": "1.5.0",
          "state": {
            "_dom_classes": [],
            "_model_module": "@jupyter-widgets/controls",
            "_model_module_version": "1.5.0",
            "_model_name": "HTMLModel",
            "_view_count": null,
            "_view_module": "@jupyter-widgets/controls",
            "_view_module_version": "1.5.0",
            "_view_name": "HTMLView",
            "description": "",
            "description_tooltip": null,
            "layout": "IPY_MODEL_f21f5d65bba243368ffeb06ec0cd2066",
            "placeholder": "​",
            "style": "IPY_MODEL_e600df4c32ec41c28d2c1039f910fa84",
            "value": "config.json: 100%"
          }
        },
        "1ffdd5a3357d45d881feacdb52abe41a": {
          "model_module": "@jupyter-widgets/controls",
          "model_name": "FloatProgressModel",
          "model_module_version": "1.5.0",
          "state": {
            "_dom_classes": [],
            "_model_module": "@jupyter-widgets/controls",
            "_model_module_version": "1.5.0",
            "_model_name": "FloatProgressModel",
            "_view_count": null,
            "_view_module": "@jupyter-widgets/controls",
            "_view_module_version": "1.5.0",
            "_view_name": "ProgressView",
            "bar_style": "success",
            "description": "",
            "description_tooltip": null,
            "layout": "IPY_MODEL_0fbbadc77d81431fad9c2c6fb188b20c",
            "max": 1817,
            "min": 0,
            "orientation": "horizontal",
            "style": "IPY_MODEL_f81c218eb3de475fa6e9e97f1eed4083",
            "value": 1817
          }
        },
        "76f40837733c413cbb45febfad8f0133": {
          "model_module": "@jupyter-widgets/controls",
          "model_name": "HTMLModel",
          "model_module_version": "1.5.0",
          "state": {
            "_dom_classes": [],
            "_model_module": "@jupyter-widgets/controls",
            "_model_module_version": "1.5.0",
            "_model_name": "HTMLModel",
            "_view_count": null,
            "_view_module": "@jupyter-widgets/controls",
            "_view_module_version": "1.5.0",
            "_view_name": "HTMLView",
            "description": "",
            "description_tooltip": null,
            "layout": "IPY_MODEL_caa1738b5c874240a994873650d470ad",
            "placeholder": "​",
            "style": "IPY_MODEL_2dc3b2773c394935a37b3cd0ab515bd3",
            "value": " 1.82k/1.82k [00:00&lt;00:00, 112kB/s]"
          }
        },
        "5a33a4839dc04741bb88aa3fbc67e854": {
          "model_module": "@jupyter-widgets/base",
          "model_name": "LayoutModel",
          "model_module_version": "1.2.0",
          "state": {
            "_model_module": "@jupyter-widgets/base",
            "_model_module_version": "1.2.0",
            "_model_name": "LayoutModel",
            "_view_count": null,
            "_view_module": "@jupyter-widgets/base",
            "_view_module_version": "1.2.0",
            "_view_name": "LayoutView",
            "align_content": null,
            "align_items": null,
            "align_self": null,
            "border": null,
            "bottom": null,
            "display": null,
            "flex": null,
            "flex_flow": null,
            "grid_area": null,
            "grid_auto_columns": null,
            "grid_auto_flow": null,
            "grid_auto_rows": null,
            "grid_column": null,
            "grid_gap": null,
            "grid_row": null,
            "grid_template_areas": null,
            "grid_template_columns": null,
            "grid_template_rows": null,
            "height": null,
            "justify_content": null,
            "justify_items": null,
            "left": null,
            "margin": null,
            "max_height": null,
            "max_width": null,
            "min_height": null,
            "min_width": null,
            "object_fit": null,
            "object_position": null,
            "order": null,
            "overflow": null,
            "overflow_x": null,
            "overflow_y": null,
            "padding": null,
            "right": null,
            "top": null,
            "visibility": null,
            "width": null
          }
        },
        "f21f5d65bba243368ffeb06ec0cd2066": {
          "model_module": "@jupyter-widgets/base",
          "model_name": "LayoutModel",
          "model_module_version": "1.2.0",
          "state": {
            "_model_module": "@jupyter-widgets/base",
            "_model_module_version": "1.2.0",
            "_model_name": "LayoutModel",
            "_view_count": null,
            "_view_module": "@jupyter-widgets/base",
            "_view_module_version": "1.2.0",
            "_view_name": "LayoutView",
            "align_content": null,
            "align_items": null,
            "align_self": null,
            "border": null,
            "bottom": null,
            "display": null,
            "flex": null,
            "flex_flow": null,
            "grid_area": null,
            "grid_auto_columns": null,
            "grid_auto_flow": null,
            "grid_auto_rows": null,
            "grid_column": null,
            "grid_gap": null,
            "grid_row": null,
            "grid_template_areas": null,
            "grid_template_columns": null,
            "grid_template_rows": null,
            "height": null,
            "justify_content": null,
            "justify_items": null,
            "left": null,
            "margin": null,
            "max_height": null,
            "max_width": null,
            "min_height": null,
            "min_width": null,
            "object_fit": null,
            "object_position": null,
            "order": null,
            "overflow": null,
            "overflow_x": null,
            "overflow_y": null,
            "padding": null,
            "right": null,
            "top": null,
            "visibility": null,
            "width": null
          }
        },
        "e600df4c32ec41c28d2c1039f910fa84": {
          "model_module": "@jupyter-widgets/controls",
          "model_name": "DescriptionStyleModel",
          "model_module_version": "1.5.0",
          "state": {
            "_model_module": "@jupyter-widgets/controls",
            "_model_module_version": "1.5.0",
            "_model_name": "DescriptionStyleModel",
            "_view_count": null,
            "_view_module": "@jupyter-widgets/base",
            "_view_module_version": "1.2.0",
            "_view_name": "StyleView",
            "description_width": ""
          }
        },
        "0fbbadc77d81431fad9c2c6fb188b20c": {
          "model_module": "@jupyter-widgets/base",
          "model_name": "LayoutModel",
          "model_module_version": "1.2.0",
          "state": {
            "_model_module": "@jupyter-widgets/base",
            "_model_module_version": "1.2.0",
            "_model_name": "LayoutModel",
            "_view_count": null,
            "_view_module": "@jupyter-widgets/base",
            "_view_module_version": "1.2.0",
            "_view_name": "LayoutView",
            "align_content": null,
            "align_items": null,
            "align_self": null,
            "border": null,
            "bottom": null,
            "display": null,
            "flex": null,
            "flex_flow": null,
            "grid_area": null,
            "grid_auto_columns": null,
            "grid_auto_flow": null,
            "grid_auto_rows": null,
            "grid_column": null,
            "grid_gap": null,
            "grid_row": null,
            "grid_template_areas": null,
            "grid_template_columns": null,
            "grid_template_rows": null,
            "height": null,
            "justify_content": null,
            "justify_items": null,
            "left": null,
            "margin": null,
            "max_height": null,
            "max_width": null,
            "min_height": null,
            "min_width": null,
            "object_fit": null,
            "object_position": null,
            "order": null,
            "overflow": null,
            "overflow_x": null,
            "overflow_y": null,
            "padding": null,
            "right": null,
            "top": null,
            "visibility": null,
            "width": null
          }
        },
        "f81c218eb3de475fa6e9e97f1eed4083": {
          "model_module": "@jupyter-widgets/controls",
          "model_name": "ProgressStyleModel",
          "model_module_version": "1.5.0",
          "state": {
            "_model_module": "@jupyter-widgets/controls",
            "_model_module_version": "1.5.0",
            "_model_name": "ProgressStyleModel",
            "_view_count": null,
            "_view_module": "@jupyter-widgets/base",
            "_view_module_version": "1.2.0",
            "_view_name": "StyleView",
            "bar_color": null,
            "description_width": ""
          }
        },
        "caa1738b5c874240a994873650d470ad": {
          "model_module": "@jupyter-widgets/base",
          "model_name": "LayoutModel",
          "model_module_version": "1.2.0",
          "state": {
            "_model_module": "@jupyter-widgets/base",
            "_model_module_version": "1.2.0",
            "_model_name": "LayoutModel",
            "_view_count": null,
            "_view_module": "@jupyter-widgets/base",
            "_view_module_version": "1.2.0",
            "_view_name": "LayoutView",
            "align_content": null,
            "align_items": null,
            "align_self": null,
            "border": null,
            "bottom": null,
            "display": null,
            "flex": null,
            "flex_flow": null,
            "grid_area": null,
            "grid_auto_columns": null,
            "grid_auto_flow": null,
            "grid_auto_rows": null,
            "grid_column": null,
            "grid_gap": null,
            "grid_row": null,
            "grid_template_areas": null,
            "grid_template_columns": null,
            "grid_template_rows": null,
            "height": null,
            "justify_content": null,
            "justify_items": null,
            "left": null,
            "margin": null,
            "max_height": null,
            "max_width": null,
            "min_height": null,
            "min_width": null,
            "object_fit": null,
            "object_position": null,
            "order": null,
            "overflow": null,
            "overflow_x": null,
            "overflow_y": null,
            "padding": null,
            "right": null,
            "top": null,
            "visibility": null,
            "width": null
          }
        },
        "2dc3b2773c394935a37b3cd0ab515bd3": {
          "model_module": "@jupyter-widgets/controls",
          "model_name": "DescriptionStyleModel",
          "model_module_version": "1.5.0",
          "state": {
            "_model_module": "@jupyter-widgets/controls",
            "_model_module_version": "1.5.0",
            "_model_name": "DescriptionStyleModel",
            "_view_count": null,
            "_view_module": "@jupyter-widgets/base",
            "_view_module_version": "1.2.0",
            "_view_name": "StyleView",
            "description_width": ""
          }
        },
        "0b00c5ec4f504c7c8f531cc3c06afb23": {
          "model_module": "@jupyter-widgets/controls",
          "model_name": "HBoxModel",
          "model_module_version": "1.5.0",
          "state": {
            "_dom_classes": [],
            "_model_module": "@jupyter-widgets/controls",
            "_model_module_version": "1.5.0",
            "_model_name": "HBoxModel",
            "_view_count": null,
            "_view_module": "@jupyter-widgets/controls",
            "_view_module_version": "1.5.0",
            "_view_name": "HBoxView",
            "box_style": "",
            "children": [
              "IPY_MODEL_67d94b0649a546149347a9b4df8ea2e3",
              "IPY_MODEL_49331894f9674fd789c421f1a9e9403a",
              "IPY_MODEL_fa213300374d4eadb183d75265b3d29c"
            ],
            "layout": "IPY_MODEL_197cc121f8564fa0ab95e2a9e201c9d7"
          }
        },
        "67d94b0649a546149347a9b4df8ea2e3": {
          "model_module": "@jupyter-widgets/controls",
          "model_name": "HTMLModel",
          "model_module_version": "1.5.0",
          "state": {
            "_dom_classes": [],
            "_model_module": "@jupyter-widgets/controls",
            "_model_module_version": "1.5.0",
            "_model_name": "HTMLModel",
            "_view_count": null,
            "_view_module": "@jupyter-widgets/controls",
            "_view_module_version": "1.5.0",
            "_view_name": "HTMLView",
            "description": "",
            "description_tooltip": null,
            "layout": "IPY_MODEL_eda8956677ca46d19578d1758ab7ac23",
            "placeholder": "​",
            "style": "IPY_MODEL_17c4b36af4154f5c957276aea1f66148",
            "value": "configuration_MERT.py: 100%"
          }
        },
        "49331894f9674fd789c421f1a9e9403a": {
          "model_module": "@jupyter-widgets/controls",
          "model_name": "FloatProgressModel",
          "model_module_version": "1.5.0",
          "state": {
            "_dom_classes": [],
            "_model_module": "@jupyter-widgets/controls",
            "_model_module_version": "1.5.0",
            "_model_name": "FloatProgressModel",
            "_view_count": null,
            "_view_module": "@jupyter-widgets/controls",
            "_view_module_version": "1.5.0",
            "_view_name": "ProgressView",
            "bar_style": "success",
            "description": "",
            "description_tooltip": null,
            "layout": "IPY_MODEL_c0f5282f96cf45d39fa7d119fe34e7d4",
            "max": 5265,
            "min": 0,
            "orientation": "horizontal",
            "style": "IPY_MODEL_853622c13b6f493f914937a7a22e5bc3",
            "value": 5265
          }
        },
        "fa213300374d4eadb183d75265b3d29c": {
          "model_module": "@jupyter-widgets/controls",
          "model_name": "HTMLModel",
          "model_module_version": "1.5.0",
          "state": {
            "_dom_classes": [],
            "_model_module": "@jupyter-widgets/controls",
            "_model_module_version": "1.5.0",
            "_model_name": "HTMLModel",
            "_view_count": null,
            "_view_module": "@jupyter-widgets/controls",
            "_view_module_version": "1.5.0",
            "_view_name": "HTMLView",
            "description": "",
            "description_tooltip": null,
            "layout": "IPY_MODEL_a0c2e0cedff24c83bce3f96a6c2d9667",
            "placeholder": "​",
            "style": "IPY_MODEL_83085191d2d04e6ca5e9597ab73fdeb4",
            "value": " 5.26k/5.26k [00:00&lt;00:00, 296kB/s]"
          }
        },
        "197cc121f8564fa0ab95e2a9e201c9d7": {
          "model_module": "@jupyter-widgets/base",
          "model_name": "LayoutModel",
          "model_module_version": "1.2.0",
          "state": {
            "_model_module": "@jupyter-widgets/base",
            "_model_module_version": "1.2.0",
            "_model_name": "LayoutModel",
            "_view_count": null,
            "_view_module": "@jupyter-widgets/base",
            "_view_module_version": "1.2.0",
            "_view_name": "LayoutView",
            "align_content": null,
            "align_items": null,
            "align_self": null,
            "border": null,
            "bottom": null,
            "display": null,
            "flex": null,
            "flex_flow": null,
            "grid_area": null,
            "grid_auto_columns": null,
            "grid_auto_flow": null,
            "grid_auto_rows": null,
            "grid_column": null,
            "grid_gap": null,
            "grid_row": null,
            "grid_template_areas": null,
            "grid_template_columns": null,
            "grid_template_rows": null,
            "height": null,
            "justify_content": null,
            "justify_items": null,
            "left": null,
            "margin": null,
            "max_height": null,
            "max_width": null,
            "min_height": null,
            "min_width": null,
            "object_fit": null,
            "object_position": null,
            "order": null,
            "overflow": null,
            "overflow_x": null,
            "overflow_y": null,
            "padding": null,
            "right": null,
            "top": null,
            "visibility": null,
            "width": null
          }
        },
        "eda8956677ca46d19578d1758ab7ac23": {
          "model_module": "@jupyter-widgets/base",
          "model_name": "LayoutModel",
          "model_module_version": "1.2.0",
          "state": {
            "_model_module": "@jupyter-widgets/base",
            "_model_module_version": "1.2.0",
            "_model_name": "LayoutModel",
            "_view_count": null,
            "_view_module": "@jupyter-widgets/base",
            "_view_module_version": "1.2.0",
            "_view_name": "LayoutView",
            "align_content": null,
            "align_items": null,
            "align_self": null,
            "border": null,
            "bottom": null,
            "display": null,
            "flex": null,
            "flex_flow": null,
            "grid_area": null,
            "grid_auto_columns": null,
            "grid_auto_flow": null,
            "grid_auto_rows": null,
            "grid_column": null,
            "grid_gap": null,
            "grid_row": null,
            "grid_template_areas": null,
            "grid_template_columns": null,
            "grid_template_rows": null,
            "height": null,
            "justify_content": null,
            "justify_items": null,
            "left": null,
            "margin": null,
            "max_height": null,
            "max_width": null,
            "min_height": null,
            "min_width": null,
            "object_fit": null,
            "object_position": null,
            "order": null,
            "overflow": null,
            "overflow_x": null,
            "overflow_y": null,
            "padding": null,
            "right": null,
            "top": null,
            "visibility": null,
            "width": null
          }
        },
        "17c4b36af4154f5c957276aea1f66148": {
          "model_module": "@jupyter-widgets/controls",
          "model_name": "DescriptionStyleModel",
          "model_module_version": "1.5.0",
          "state": {
            "_model_module": "@jupyter-widgets/controls",
            "_model_module_version": "1.5.0",
            "_model_name": "DescriptionStyleModel",
            "_view_count": null,
            "_view_module": "@jupyter-widgets/base",
            "_view_module_version": "1.2.0",
            "_view_name": "StyleView",
            "description_width": ""
          }
        },
        "c0f5282f96cf45d39fa7d119fe34e7d4": {
          "model_module": "@jupyter-widgets/base",
          "model_name": "LayoutModel",
          "model_module_version": "1.2.0",
          "state": {
            "_model_module": "@jupyter-widgets/base",
            "_model_module_version": "1.2.0",
            "_model_name": "LayoutModel",
            "_view_count": null,
            "_view_module": "@jupyter-widgets/base",
            "_view_module_version": "1.2.0",
            "_view_name": "LayoutView",
            "align_content": null,
            "align_items": null,
            "align_self": null,
            "border": null,
            "bottom": null,
            "display": null,
            "flex": null,
            "flex_flow": null,
            "grid_area": null,
            "grid_auto_columns": null,
            "grid_auto_flow": null,
            "grid_auto_rows": null,
            "grid_column": null,
            "grid_gap": null,
            "grid_row": null,
            "grid_template_areas": null,
            "grid_template_columns": null,
            "grid_template_rows": null,
            "height": null,
            "justify_content": null,
            "justify_items": null,
            "left": null,
            "margin": null,
            "max_height": null,
            "max_width": null,
            "min_height": null,
            "min_width": null,
            "object_fit": null,
            "object_position": null,
            "order": null,
            "overflow": null,
            "overflow_x": null,
            "overflow_y": null,
            "padding": null,
            "right": null,
            "top": null,
            "visibility": null,
            "width": null
          }
        },
        "853622c13b6f493f914937a7a22e5bc3": {
          "model_module": "@jupyter-widgets/controls",
          "model_name": "ProgressStyleModel",
          "model_module_version": "1.5.0",
          "state": {
            "_model_module": "@jupyter-widgets/controls",
            "_model_module_version": "1.5.0",
            "_model_name": "ProgressStyleModel",
            "_view_count": null,
            "_view_module": "@jupyter-widgets/base",
            "_view_module_version": "1.2.0",
            "_view_name": "StyleView",
            "bar_color": null,
            "description_width": ""
          }
        },
        "a0c2e0cedff24c83bce3f96a6c2d9667": {
          "model_module": "@jupyter-widgets/base",
          "model_name": "LayoutModel",
          "model_module_version": "1.2.0",
          "state": {
            "_model_module": "@jupyter-widgets/base",
            "_model_module_version": "1.2.0",
            "_model_name": "LayoutModel",
            "_view_count": null,
            "_view_module": "@jupyter-widgets/base",
            "_view_module_version": "1.2.0",
            "_view_name": "LayoutView",
            "align_content": null,
            "align_items": null,
            "align_self": null,
            "border": null,
            "bottom": null,
            "display": null,
            "flex": null,
            "flex_flow": null,
            "grid_area": null,
            "grid_auto_columns": null,
            "grid_auto_flow": null,
            "grid_auto_rows": null,
            "grid_column": null,
            "grid_gap": null,
            "grid_row": null,
            "grid_template_areas": null,
            "grid_template_columns": null,
            "grid_template_rows": null,
            "height": null,
            "justify_content": null,
            "justify_items": null,
            "left": null,
            "margin": null,
            "max_height": null,
            "max_width": null,
            "min_height": null,
            "min_width": null,
            "object_fit": null,
            "object_position": null,
            "order": null,
            "overflow": null,
            "overflow_x": null,
            "overflow_y": null,
            "padding": null,
            "right": null,
            "top": null,
            "visibility": null,
            "width": null
          }
        },
        "83085191d2d04e6ca5e9597ab73fdeb4": {
          "model_module": "@jupyter-widgets/controls",
          "model_name": "DescriptionStyleModel",
          "model_module_version": "1.5.0",
          "state": {
            "_model_module": "@jupyter-widgets/controls",
            "_model_module_version": "1.5.0",
            "_model_name": "DescriptionStyleModel",
            "_view_count": null,
            "_view_module": "@jupyter-widgets/base",
            "_view_module_version": "1.2.0",
            "_view_name": "StyleView",
            "description_width": ""
          }
        },
        "756ca580ac4f4498be8814fced180090": {
          "model_module": "@jupyter-widgets/controls",
          "model_name": "HBoxModel",
          "model_module_version": "1.5.0",
          "state": {
            "_dom_classes": [],
            "_model_module": "@jupyter-widgets/controls",
            "_model_module_version": "1.5.0",
            "_model_name": "HBoxModel",
            "_view_count": null,
            "_view_module": "@jupyter-widgets/controls",
            "_view_module_version": "1.5.0",
            "_view_name": "HBoxView",
            "box_style": "",
            "children": [
              "IPY_MODEL_a4c524f0cb3445dcb4c6e93db312590c",
              "IPY_MODEL_07da6668dce1402781758fdcc2a3eb9a",
              "IPY_MODEL_1d0015d0e2204d79a2d70785753d2204"
            ],
            "layout": "IPY_MODEL_92055e5b7fe243af87756aca35d8b8be"
          }
        },
        "a4c524f0cb3445dcb4c6e93db312590c": {
          "model_module": "@jupyter-widgets/controls",
          "model_name": "HTMLModel",
          "model_module_version": "1.5.0",
          "state": {
            "_dom_classes": [],
            "_model_module": "@jupyter-widgets/controls",
            "_model_module_version": "1.5.0",
            "_model_name": "HTMLModel",
            "_view_count": null,
            "_view_module": "@jupyter-widgets/controls",
            "_view_module_version": "1.5.0",
            "_view_name": "HTMLView",
            "description": "",
            "description_tooltip": null,
            "layout": "IPY_MODEL_243ad35bc55a46509baf8e2644d0136f",
            "placeholder": "​",
            "style": "IPY_MODEL_fed70019e55d4f6986f24f126c9bed85",
            "value": "modeling_MERT.py: 100%"
          }
        },
        "07da6668dce1402781758fdcc2a3eb9a": {
          "model_module": "@jupyter-widgets/controls",
          "model_name": "FloatProgressModel",
          "model_module_version": "1.5.0",
          "state": {
            "_dom_classes": [],
            "_model_module": "@jupyter-widgets/controls",
            "_model_module_version": "1.5.0",
            "_model_name": "FloatProgressModel",
            "_view_count": null,
            "_view_module": "@jupyter-widgets/controls",
            "_view_module_version": "1.5.0",
            "_view_name": "ProgressView",
            "bar_style": "success",
            "description": "",
            "description_tooltip": null,
            "layout": "IPY_MODEL_2b4e3e0c58114a9b9e0e3d1531633e9f",
            "max": 18033,
            "min": 0,
            "orientation": "horizontal",
            "style": "IPY_MODEL_8959be64e702442c9258ecb25ee910b8",
            "value": 18033
          }
        },
        "1d0015d0e2204d79a2d70785753d2204": {
          "model_module": "@jupyter-widgets/controls",
          "model_name": "HTMLModel",
          "model_module_version": "1.5.0",
          "state": {
            "_dom_classes": [],
            "_model_module": "@jupyter-widgets/controls",
            "_model_module_version": "1.5.0",
            "_model_name": "HTMLModel",
            "_view_count": null,
            "_view_module": "@jupyter-widgets/controls",
            "_view_module_version": "1.5.0",
            "_view_name": "HTMLView",
            "description": "",
            "description_tooltip": null,
            "layout": "IPY_MODEL_b10013b0cce74e55892f1255d66220f2",
            "placeholder": "​",
            "style": "IPY_MODEL_ef8fcce49f7f4588a75a37fdd4d4ccc7",
            "value": " 18.0k/18.0k [00:00&lt;00:00, 1.35MB/s]"
          }
        },
        "92055e5b7fe243af87756aca35d8b8be": {
          "model_module": "@jupyter-widgets/base",
          "model_name": "LayoutModel",
          "model_module_version": "1.2.0",
          "state": {
            "_model_module": "@jupyter-widgets/base",
            "_model_module_version": "1.2.0",
            "_model_name": "LayoutModel",
            "_view_count": null,
            "_view_module": "@jupyter-widgets/base",
            "_view_module_version": "1.2.0",
            "_view_name": "LayoutView",
            "align_content": null,
            "align_items": null,
            "align_self": null,
            "border": null,
            "bottom": null,
            "display": null,
            "flex": null,
            "flex_flow": null,
            "grid_area": null,
            "grid_auto_columns": null,
            "grid_auto_flow": null,
            "grid_auto_rows": null,
            "grid_column": null,
            "grid_gap": null,
            "grid_row": null,
            "grid_template_areas": null,
            "grid_template_columns": null,
            "grid_template_rows": null,
            "height": null,
            "justify_content": null,
            "justify_items": null,
            "left": null,
            "margin": null,
            "max_height": null,
            "max_width": null,
            "min_height": null,
            "min_width": null,
            "object_fit": null,
            "object_position": null,
            "order": null,
            "overflow": null,
            "overflow_x": null,
            "overflow_y": null,
            "padding": null,
            "right": null,
            "top": null,
            "visibility": null,
            "width": null
          }
        },
        "243ad35bc55a46509baf8e2644d0136f": {
          "model_module": "@jupyter-widgets/base",
          "model_name": "LayoutModel",
          "model_module_version": "1.2.0",
          "state": {
            "_model_module": "@jupyter-widgets/base",
            "_model_module_version": "1.2.0",
            "_model_name": "LayoutModel",
            "_view_count": null,
            "_view_module": "@jupyter-widgets/base",
            "_view_module_version": "1.2.0",
            "_view_name": "LayoutView",
            "align_content": null,
            "align_items": null,
            "align_self": null,
            "border": null,
            "bottom": null,
            "display": null,
            "flex": null,
            "flex_flow": null,
            "grid_area": null,
            "grid_auto_columns": null,
            "grid_auto_flow": null,
            "grid_auto_rows": null,
            "grid_column": null,
            "grid_gap": null,
            "grid_row": null,
            "grid_template_areas": null,
            "grid_template_columns": null,
            "grid_template_rows": null,
            "height": null,
            "justify_content": null,
            "justify_items": null,
            "left": null,
            "margin": null,
            "max_height": null,
            "max_width": null,
            "min_height": null,
            "min_width": null,
            "object_fit": null,
            "object_position": null,
            "order": null,
            "overflow": null,
            "overflow_x": null,
            "overflow_y": null,
            "padding": null,
            "right": null,
            "top": null,
            "visibility": null,
            "width": null
          }
        },
        "fed70019e55d4f6986f24f126c9bed85": {
          "model_module": "@jupyter-widgets/controls",
          "model_name": "DescriptionStyleModel",
          "model_module_version": "1.5.0",
          "state": {
            "_model_module": "@jupyter-widgets/controls",
            "_model_module_version": "1.5.0",
            "_model_name": "DescriptionStyleModel",
            "_view_count": null,
            "_view_module": "@jupyter-widgets/base",
            "_view_module_version": "1.2.0",
            "_view_name": "StyleView",
            "description_width": ""
          }
        },
        "2b4e3e0c58114a9b9e0e3d1531633e9f": {
          "model_module": "@jupyter-widgets/base",
          "model_name": "LayoutModel",
          "model_module_version": "1.2.0",
          "state": {
            "_model_module": "@jupyter-widgets/base",
            "_model_module_version": "1.2.0",
            "_model_name": "LayoutModel",
            "_view_count": null,
            "_view_module": "@jupyter-widgets/base",
            "_view_module_version": "1.2.0",
            "_view_name": "LayoutView",
            "align_content": null,
            "align_items": null,
            "align_self": null,
            "border": null,
            "bottom": null,
            "display": null,
            "flex": null,
            "flex_flow": null,
            "grid_area": null,
            "grid_auto_columns": null,
            "grid_auto_flow": null,
            "grid_auto_rows": null,
            "grid_column": null,
            "grid_gap": null,
            "grid_row": null,
            "grid_template_areas": null,
            "grid_template_columns": null,
            "grid_template_rows": null,
            "height": null,
            "justify_content": null,
            "justify_items": null,
            "left": null,
            "margin": null,
            "max_height": null,
            "max_width": null,
            "min_height": null,
            "min_width": null,
            "object_fit": null,
            "object_position": null,
            "order": null,
            "overflow": null,
            "overflow_x": null,
            "overflow_y": null,
            "padding": null,
            "right": null,
            "top": null,
            "visibility": null,
            "width": null
          }
        },
        "8959be64e702442c9258ecb25ee910b8": {
          "model_module": "@jupyter-widgets/controls",
          "model_name": "ProgressStyleModel",
          "model_module_version": "1.5.0",
          "state": {
            "_model_module": "@jupyter-widgets/controls",
            "_model_module_version": "1.5.0",
            "_model_name": "ProgressStyleModel",
            "_view_count": null,
            "_view_module": "@jupyter-widgets/base",
            "_view_module_version": "1.2.0",
            "_view_name": "StyleView",
            "bar_color": null,
            "description_width": ""
          }
        },
        "b10013b0cce74e55892f1255d66220f2": {
          "model_module": "@jupyter-widgets/base",
          "model_name": "LayoutModel",
          "model_module_version": "1.2.0",
          "state": {
            "_model_module": "@jupyter-widgets/base",
            "_model_module_version": "1.2.0",
            "_model_name": "LayoutModel",
            "_view_count": null,
            "_view_module": "@jupyter-widgets/base",
            "_view_module_version": "1.2.0",
            "_view_name": "LayoutView",
            "align_content": null,
            "align_items": null,
            "align_self": null,
            "border": null,
            "bottom": null,
            "display": null,
            "flex": null,
            "flex_flow": null,
            "grid_area": null,
            "grid_auto_columns": null,
            "grid_auto_flow": null,
            "grid_auto_rows": null,
            "grid_column": null,
            "grid_gap": null,
            "grid_row": null,
            "grid_template_areas": null,
            "grid_template_columns": null,
            "grid_template_rows": null,
            "height": null,
            "justify_content": null,
            "justify_items": null,
            "left": null,
            "margin": null,
            "max_height": null,
            "max_width": null,
            "min_height": null,
            "min_width": null,
            "object_fit": null,
            "object_position": null,
            "order": null,
            "overflow": null,
            "overflow_x": null,
            "overflow_y": null,
            "padding": null,
            "right": null,
            "top": null,
            "visibility": null,
            "width": null
          }
        },
        "ef8fcce49f7f4588a75a37fdd4d4ccc7": {
          "model_module": "@jupyter-widgets/controls",
          "model_name": "DescriptionStyleModel",
          "model_module_version": "1.5.0",
          "state": {
            "_model_module": "@jupyter-widgets/controls",
            "_model_module_version": "1.5.0",
            "_model_name": "DescriptionStyleModel",
            "_view_count": null,
            "_view_module": "@jupyter-widgets/base",
            "_view_module_version": "1.2.0",
            "_view_name": "StyleView",
            "description_width": ""
          }
        },
        "0993ca0dae6746f2bbfe254d9db6352d": {
          "model_module": "@jupyter-widgets/controls",
          "model_name": "HBoxModel",
          "model_module_version": "1.5.0",
          "state": {
            "_dom_classes": [],
            "_model_module": "@jupyter-widgets/controls",
            "_model_module_version": "1.5.0",
            "_model_name": "HBoxModel",
            "_view_count": null,
            "_view_module": "@jupyter-widgets/controls",
            "_view_module_version": "1.5.0",
            "_view_name": "HBoxView",
            "box_style": "",
            "children": [
              "IPY_MODEL_cd4b12c6520246f3b13cb4564a46105e",
              "IPY_MODEL_1be6f9efba9e4582b72e309017c8e5bb",
              "IPY_MODEL_3784a51226064837802186727cb0c3b6"
            ],
            "layout": "IPY_MODEL_d387a2a2999d4cf5b7dc617b1937cac3"
          }
        },
        "cd4b12c6520246f3b13cb4564a46105e": {
          "model_module": "@jupyter-widgets/controls",
          "model_name": "HTMLModel",
          "model_module_version": "1.5.0",
          "state": {
            "_dom_classes": [],
            "_model_module": "@jupyter-widgets/controls",
            "_model_module_version": "1.5.0",
            "_model_name": "HTMLModel",
            "_view_count": null,
            "_view_module": "@jupyter-widgets/controls",
            "_view_module_version": "1.5.0",
            "_view_name": "HTMLView",
            "description": "",
            "description_tooltip": null,
            "layout": "IPY_MODEL_83a0446a495c4a1d853a324d02d9f98c",
            "placeholder": "​",
            "style": "IPY_MODEL_335503407ca540148d6e47bb3161e74e",
            "value": "pytorch_model.bin: 100%"
          }
        },
        "1be6f9efba9e4582b72e309017c8e5bb": {
          "model_module": "@jupyter-widgets/controls",
          "model_name": "FloatProgressModel",
          "model_module_version": "1.5.0",
          "state": {
            "_dom_classes": [],
            "_model_module": "@jupyter-widgets/controls",
            "_model_module_version": "1.5.0",
            "_model_name": "FloatProgressModel",
            "_view_count": null,
            "_view_module": "@jupyter-widgets/controls",
            "_view_module_version": "1.5.0",
            "_view_name": "ProgressView",
            "bar_style": "success",
            "description": "",
            "description_tooltip": null,
            "layout": "IPY_MODEL_f2af0877bb9f4380802948fbdd4119ae",
            "max": 377552987,
            "min": 0,
            "orientation": "horizontal",
            "style": "IPY_MODEL_a03ef89f3c1540189216abd2b96651e4",
            "value": 377552987
          }
        },
        "3784a51226064837802186727cb0c3b6": {
          "model_module": "@jupyter-widgets/controls",
          "model_name": "HTMLModel",
          "model_module_version": "1.5.0",
          "state": {
            "_dom_classes": [],
            "_model_module": "@jupyter-widgets/controls",
            "_model_module_version": "1.5.0",
            "_model_name": "HTMLModel",
            "_view_count": null,
            "_view_module": "@jupyter-widgets/controls",
            "_view_module_version": "1.5.0",
            "_view_name": "HTMLView",
            "description": "",
            "description_tooltip": null,
            "layout": "IPY_MODEL_1675fc029a8d4c4fae9d35cbda28aa11",
            "placeholder": "​",
            "style": "IPY_MODEL_e8cf3a5acb28417b8452863b1a9fe4b5",
            "value": " 378M/378M [00:01&lt;00:00, 239MB/s]"
          }
        },
        "d387a2a2999d4cf5b7dc617b1937cac3": {
          "model_module": "@jupyter-widgets/base",
          "model_name": "LayoutModel",
          "model_module_version": "1.2.0",
          "state": {
            "_model_module": "@jupyter-widgets/base",
            "_model_module_version": "1.2.0",
            "_model_name": "LayoutModel",
            "_view_count": null,
            "_view_module": "@jupyter-widgets/base",
            "_view_module_version": "1.2.0",
            "_view_name": "LayoutView",
            "align_content": null,
            "align_items": null,
            "align_self": null,
            "border": null,
            "bottom": null,
            "display": null,
            "flex": null,
            "flex_flow": null,
            "grid_area": null,
            "grid_auto_columns": null,
            "grid_auto_flow": null,
            "grid_auto_rows": null,
            "grid_column": null,
            "grid_gap": null,
            "grid_row": null,
            "grid_template_areas": null,
            "grid_template_columns": null,
            "grid_template_rows": null,
            "height": null,
            "justify_content": null,
            "justify_items": null,
            "left": null,
            "margin": null,
            "max_height": null,
            "max_width": null,
            "min_height": null,
            "min_width": null,
            "object_fit": null,
            "object_position": null,
            "order": null,
            "overflow": null,
            "overflow_x": null,
            "overflow_y": null,
            "padding": null,
            "right": null,
            "top": null,
            "visibility": null,
            "width": null
          }
        },
        "83a0446a495c4a1d853a324d02d9f98c": {
          "model_module": "@jupyter-widgets/base",
          "model_name": "LayoutModel",
          "model_module_version": "1.2.0",
          "state": {
            "_model_module": "@jupyter-widgets/base",
            "_model_module_version": "1.2.0",
            "_model_name": "LayoutModel",
            "_view_count": null,
            "_view_module": "@jupyter-widgets/base",
            "_view_module_version": "1.2.0",
            "_view_name": "LayoutView",
            "align_content": null,
            "align_items": null,
            "align_self": null,
            "border": null,
            "bottom": null,
            "display": null,
            "flex": null,
            "flex_flow": null,
            "grid_area": null,
            "grid_auto_columns": null,
            "grid_auto_flow": null,
            "grid_auto_rows": null,
            "grid_column": null,
            "grid_gap": null,
            "grid_row": null,
            "grid_template_areas": null,
            "grid_template_columns": null,
            "grid_template_rows": null,
            "height": null,
            "justify_content": null,
            "justify_items": null,
            "left": null,
            "margin": null,
            "max_height": null,
            "max_width": null,
            "min_height": null,
            "min_width": null,
            "object_fit": null,
            "object_position": null,
            "order": null,
            "overflow": null,
            "overflow_x": null,
            "overflow_y": null,
            "padding": null,
            "right": null,
            "top": null,
            "visibility": null,
            "width": null
          }
        },
        "335503407ca540148d6e47bb3161e74e": {
          "model_module": "@jupyter-widgets/controls",
          "model_name": "DescriptionStyleModel",
          "model_module_version": "1.5.0",
          "state": {
            "_model_module": "@jupyter-widgets/controls",
            "_model_module_version": "1.5.0",
            "_model_name": "DescriptionStyleModel",
            "_view_count": null,
            "_view_module": "@jupyter-widgets/base",
            "_view_module_version": "1.2.0",
            "_view_name": "StyleView",
            "description_width": ""
          }
        },
        "f2af0877bb9f4380802948fbdd4119ae": {
          "model_module": "@jupyter-widgets/base",
          "model_name": "LayoutModel",
          "model_module_version": "1.2.0",
          "state": {
            "_model_module": "@jupyter-widgets/base",
            "_model_module_version": "1.2.0",
            "_model_name": "LayoutModel",
            "_view_count": null,
            "_view_module": "@jupyter-widgets/base",
            "_view_module_version": "1.2.0",
            "_view_name": "LayoutView",
            "align_content": null,
            "align_items": null,
            "align_self": null,
            "border": null,
            "bottom": null,
            "display": null,
            "flex": null,
            "flex_flow": null,
            "grid_area": null,
            "grid_auto_columns": null,
            "grid_auto_flow": null,
            "grid_auto_rows": null,
            "grid_column": null,
            "grid_gap": null,
            "grid_row": null,
            "grid_template_areas": null,
            "grid_template_columns": null,
            "grid_template_rows": null,
            "height": null,
            "justify_content": null,
            "justify_items": null,
            "left": null,
            "margin": null,
            "max_height": null,
            "max_width": null,
            "min_height": null,
            "min_width": null,
            "object_fit": null,
            "object_position": null,
            "order": null,
            "overflow": null,
            "overflow_x": null,
            "overflow_y": null,
            "padding": null,
            "right": null,
            "top": null,
            "visibility": null,
            "width": null
          }
        },
        "a03ef89f3c1540189216abd2b96651e4": {
          "model_module": "@jupyter-widgets/controls",
          "model_name": "ProgressStyleModel",
          "model_module_version": "1.5.0",
          "state": {
            "_model_module": "@jupyter-widgets/controls",
            "_model_module_version": "1.5.0",
            "_model_name": "ProgressStyleModel",
            "_view_count": null,
            "_view_module": "@jupyter-widgets/base",
            "_view_module_version": "1.2.0",
            "_view_name": "StyleView",
            "bar_color": null,
            "description_width": ""
          }
        },
        "1675fc029a8d4c4fae9d35cbda28aa11": {
          "model_module": "@jupyter-widgets/base",
          "model_name": "LayoutModel",
          "model_module_version": "1.2.0",
          "state": {
            "_model_module": "@jupyter-widgets/base",
            "_model_module_version": "1.2.0",
            "_model_name": "LayoutModel",
            "_view_count": null,
            "_view_module": "@jupyter-widgets/base",
            "_view_module_version": "1.2.0",
            "_view_name": "LayoutView",
            "align_content": null,
            "align_items": null,
            "align_self": null,
            "border": null,
            "bottom": null,
            "display": null,
            "flex": null,
            "flex_flow": null,
            "grid_area": null,
            "grid_auto_columns": null,
            "grid_auto_flow": null,
            "grid_auto_rows": null,
            "grid_column": null,
            "grid_gap": null,
            "grid_row": null,
            "grid_template_areas": null,
            "grid_template_columns": null,
            "grid_template_rows": null,
            "height": null,
            "justify_content": null,
            "justify_items": null,
            "left": null,
            "margin": null,
            "max_height": null,
            "max_width": null,
            "min_height": null,
            "min_width": null,
            "object_fit": null,
            "object_position": null,
            "order": null,
            "overflow": null,
            "overflow_x": null,
            "overflow_y": null,
            "padding": null,
            "right": null,
            "top": null,
            "visibility": null,
            "width": null
          }
        },
        "e8cf3a5acb28417b8452863b1a9fe4b5": {
          "model_module": "@jupyter-widgets/controls",
          "model_name": "DescriptionStyleModel",
          "model_module_version": "1.5.0",
          "state": {
            "_model_module": "@jupyter-widgets/controls",
            "_model_module_version": "1.5.0",
            "_model_name": "DescriptionStyleModel",
            "_view_count": null,
            "_view_module": "@jupyter-widgets/base",
            "_view_module_version": "1.2.0",
            "_view_name": "StyleView",
            "description_width": ""
          }
        },
        "afb6005b9d984e6daa9023e07fa695a6": {
          "model_module": "@jupyter-widgets/controls",
          "model_name": "HBoxModel",
          "model_module_version": "1.5.0",
          "state": {
            "_dom_classes": [],
            "_model_module": "@jupyter-widgets/controls",
            "_model_module_version": "1.5.0",
            "_model_name": "HBoxModel",
            "_view_count": null,
            "_view_module": "@jupyter-widgets/controls",
            "_view_module_version": "1.5.0",
            "_view_name": "HBoxView",
            "box_style": "",
            "children": [
              "IPY_MODEL_23ec949295a54920bc01144529dccfff",
              "IPY_MODEL_1483eb22f578417999c93fea25f97581",
              "IPY_MODEL_5d5aeae78eac466eb7c2ff55fe6142e5"
            ],
            "layout": "IPY_MODEL_eb460f8289514e788445dc952fcbcc09"
          }
        },
        "23ec949295a54920bc01144529dccfff": {
          "model_module": "@jupyter-widgets/controls",
          "model_name": "HTMLModel",
          "model_module_version": "1.5.0",
          "state": {
            "_dom_classes": [],
            "_model_module": "@jupyter-widgets/controls",
            "_model_module_version": "1.5.0",
            "_model_name": "HTMLModel",
            "_view_count": null,
            "_view_module": "@jupyter-widgets/controls",
            "_view_module_version": "1.5.0",
            "_view_name": "HTMLView",
            "description": "",
            "description_tooltip": null,
            "layout": "IPY_MODEL_1f47b49fe5694b08baa66ae8b3d82aae",
            "placeholder": "​",
            "style": "IPY_MODEL_de059d34575940989816d32f66989166",
            "value": "preprocessor_config.json: 100%"
          }
        },
        "1483eb22f578417999c93fea25f97581": {
          "model_module": "@jupyter-widgets/controls",
          "model_name": "FloatProgressModel",
          "model_module_version": "1.5.0",
          "state": {
            "_dom_classes": [],
            "_model_module": "@jupyter-widgets/controls",
            "_model_module_version": "1.5.0",
            "_model_name": "FloatProgressModel",
            "_view_count": null,
            "_view_module": "@jupyter-widgets/controls",
            "_view_module_version": "1.5.0",
            "_view_name": "ProgressView",
            "bar_style": "success",
            "description": "",
            "description_tooltip": null,
            "layout": "IPY_MODEL_c18ae4fcb3fa4cb08c9d33ceeaea56fc",
            "max": 211,
            "min": 0,
            "orientation": "horizontal",
            "style": "IPY_MODEL_0357dab7dcdf44dda3d220462faa0833",
            "value": 211
          }
        },
        "5d5aeae78eac466eb7c2ff55fe6142e5": {
          "model_module": "@jupyter-widgets/controls",
          "model_name": "HTMLModel",
          "model_module_version": "1.5.0",
          "state": {
            "_dom_classes": [],
            "_model_module": "@jupyter-widgets/controls",
            "_model_module_version": "1.5.0",
            "_model_name": "HTMLModel",
            "_view_count": null,
            "_view_module": "@jupyter-widgets/controls",
            "_view_module_version": "1.5.0",
            "_view_name": "HTMLView",
            "description": "",
            "description_tooltip": null,
            "layout": "IPY_MODEL_3ab6a3733e594c118df7cad401b1b676",
            "placeholder": "​",
            "style": "IPY_MODEL_bf38c646f4a14cecbd45988db8b30d43",
            "value": " 211/211 [00:00&lt;00:00, 12.1kB/s]"
          }
        },
        "eb460f8289514e788445dc952fcbcc09": {
          "model_module": "@jupyter-widgets/base",
          "model_name": "LayoutModel",
          "model_module_version": "1.2.0",
          "state": {
            "_model_module": "@jupyter-widgets/base",
            "_model_module_version": "1.2.0",
            "_model_name": "LayoutModel",
            "_view_count": null,
            "_view_module": "@jupyter-widgets/base",
            "_view_module_version": "1.2.0",
            "_view_name": "LayoutView",
            "align_content": null,
            "align_items": null,
            "align_self": null,
            "border": null,
            "bottom": null,
            "display": null,
            "flex": null,
            "flex_flow": null,
            "grid_area": null,
            "grid_auto_columns": null,
            "grid_auto_flow": null,
            "grid_auto_rows": null,
            "grid_column": null,
            "grid_gap": null,
            "grid_row": null,
            "grid_template_areas": null,
            "grid_template_columns": null,
            "grid_template_rows": null,
            "height": null,
            "justify_content": null,
            "justify_items": null,
            "left": null,
            "margin": null,
            "max_height": null,
            "max_width": null,
            "min_height": null,
            "min_width": null,
            "object_fit": null,
            "object_position": null,
            "order": null,
            "overflow": null,
            "overflow_x": null,
            "overflow_y": null,
            "padding": null,
            "right": null,
            "top": null,
            "visibility": null,
            "width": null
          }
        },
        "1f47b49fe5694b08baa66ae8b3d82aae": {
          "model_module": "@jupyter-widgets/base",
          "model_name": "LayoutModel",
          "model_module_version": "1.2.0",
          "state": {
            "_model_module": "@jupyter-widgets/base",
            "_model_module_version": "1.2.0",
            "_model_name": "LayoutModel",
            "_view_count": null,
            "_view_module": "@jupyter-widgets/base",
            "_view_module_version": "1.2.0",
            "_view_name": "LayoutView",
            "align_content": null,
            "align_items": null,
            "align_self": null,
            "border": null,
            "bottom": null,
            "display": null,
            "flex": null,
            "flex_flow": null,
            "grid_area": null,
            "grid_auto_columns": null,
            "grid_auto_flow": null,
            "grid_auto_rows": null,
            "grid_column": null,
            "grid_gap": null,
            "grid_row": null,
            "grid_template_areas": null,
            "grid_template_columns": null,
            "grid_template_rows": null,
            "height": null,
            "justify_content": null,
            "justify_items": null,
            "left": null,
            "margin": null,
            "max_height": null,
            "max_width": null,
            "min_height": null,
            "min_width": null,
            "object_fit": null,
            "object_position": null,
            "order": null,
            "overflow": null,
            "overflow_x": null,
            "overflow_y": null,
            "padding": null,
            "right": null,
            "top": null,
            "visibility": null,
            "width": null
          }
        },
        "de059d34575940989816d32f66989166": {
          "model_module": "@jupyter-widgets/controls",
          "model_name": "DescriptionStyleModel",
          "model_module_version": "1.5.0",
          "state": {
            "_model_module": "@jupyter-widgets/controls",
            "_model_module_version": "1.5.0",
            "_model_name": "DescriptionStyleModel",
            "_view_count": null,
            "_view_module": "@jupyter-widgets/base",
            "_view_module_version": "1.2.0",
            "_view_name": "StyleView",
            "description_width": ""
          }
        },
        "c18ae4fcb3fa4cb08c9d33ceeaea56fc": {
          "model_module": "@jupyter-widgets/base",
          "model_name": "LayoutModel",
          "model_module_version": "1.2.0",
          "state": {
            "_model_module": "@jupyter-widgets/base",
            "_model_module_version": "1.2.0",
            "_model_name": "LayoutModel",
            "_view_count": null,
            "_view_module": "@jupyter-widgets/base",
            "_view_module_version": "1.2.0",
            "_view_name": "LayoutView",
            "align_content": null,
            "align_items": null,
            "align_self": null,
            "border": null,
            "bottom": null,
            "display": null,
            "flex": null,
            "flex_flow": null,
            "grid_area": null,
            "grid_auto_columns": null,
            "grid_auto_flow": null,
            "grid_auto_rows": null,
            "grid_column": null,
            "grid_gap": null,
            "grid_row": null,
            "grid_template_areas": null,
            "grid_template_columns": null,
            "grid_template_rows": null,
            "height": null,
            "justify_content": null,
            "justify_items": null,
            "left": null,
            "margin": null,
            "max_height": null,
            "max_width": null,
            "min_height": null,
            "min_width": null,
            "object_fit": null,
            "object_position": null,
            "order": null,
            "overflow": null,
            "overflow_x": null,
            "overflow_y": null,
            "padding": null,
            "right": null,
            "top": null,
            "visibility": null,
            "width": null
          }
        },
        "0357dab7dcdf44dda3d220462faa0833": {
          "model_module": "@jupyter-widgets/controls",
          "model_name": "ProgressStyleModel",
          "model_module_version": "1.5.0",
          "state": {
            "_model_module": "@jupyter-widgets/controls",
            "_model_module_version": "1.5.0",
            "_model_name": "ProgressStyleModel",
            "_view_count": null,
            "_view_module": "@jupyter-widgets/base",
            "_view_module_version": "1.2.0",
            "_view_name": "StyleView",
            "bar_color": null,
            "description_width": ""
          }
        },
        "3ab6a3733e594c118df7cad401b1b676": {
          "model_module": "@jupyter-widgets/base",
          "model_name": "LayoutModel",
          "model_module_version": "1.2.0",
          "state": {
            "_model_module": "@jupyter-widgets/base",
            "_model_module_version": "1.2.0",
            "_model_name": "LayoutModel",
            "_view_count": null,
            "_view_module": "@jupyter-widgets/base",
            "_view_module_version": "1.2.0",
            "_view_name": "LayoutView",
            "align_content": null,
            "align_items": null,
            "align_self": null,
            "border": null,
            "bottom": null,
            "display": null,
            "flex": null,
            "flex_flow": null,
            "grid_area": null,
            "grid_auto_columns": null,
            "grid_auto_flow": null,
            "grid_auto_rows": null,
            "grid_column": null,
            "grid_gap": null,
            "grid_row": null,
            "grid_template_areas": null,
            "grid_template_columns": null,
            "grid_template_rows": null,
            "height": null,
            "justify_content": null,
            "justify_items": null,
            "left": null,
            "margin": null,
            "max_height": null,
            "max_width": null,
            "min_height": null,
            "min_width": null,
            "object_fit": null,
            "object_position": null,
            "order": null,
            "overflow": null,
            "overflow_x": null,
            "overflow_y": null,
            "padding": null,
            "right": null,
            "top": null,
            "visibility": null,
            "width": null
          }
        },
        "bf38c646f4a14cecbd45988db8b30d43": {
          "model_module": "@jupyter-widgets/controls",
          "model_name": "DescriptionStyleModel",
          "model_module_version": "1.5.0",
          "state": {
            "_model_module": "@jupyter-widgets/controls",
            "_model_module_version": "1.5.0",
            "_model_name": "DescriptionStyleModel",
            "_view_count": null,
            "_view_module": "@jupyter-widgets/base",
            "_view_module_version": "1.2.0",
            "_view_name": "StyleView",
            "description_width": ""
          }
        }
      }
    },
    "accelerator": "GPU"
  },
  "nbformat": 4,
  "nbformat_minor": 0
}